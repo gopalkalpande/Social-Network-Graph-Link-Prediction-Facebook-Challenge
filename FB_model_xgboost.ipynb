{
  "nbformat": 4,
  "nbformat_minor": 0,
  "metadata": {
    "colab": {
      "name": "FB_model_xgboost.ipynb",
      "version": "0.3.2",
      "provenance": [],
      "collapsed_sections": [],
      "include_colab_link": true
    },
    "language_info": {
      "codemirror_mode": {
        "name": "ipython",
        "version": 3
      },
      "file_extension": ".py",
      "mimetype": "text/x-python",
      "name": "python",
      "nbconvert_exporter": "python",
      "pygments_lexer": "ipython3",
      "version": "3.7.0"
    },
    "kernelspec": {
      "display_name": "Python 3",
      "language": "python",
      "name": "python3"
    },
    "accelerator": "GPU"
  },
  "cells": [
    {
      "cell_type": "markdown",
      "metadata": {
        "id": "view-in-github",
        "colab_type": "text"
      },
      "source": [
        "<a href=\"https://colab.research.google.com/github/gopalkalpande/Social-Network-Graph-Link-Prediction-Facebook-Challenge/blob/master/FB_model_xgboost.ipynb\" target=\"_parent\"><img src=\"https://colab.research.google.com/assets/colab-badge.svg\" alt=\"Open In Colab\"/></a>"
      ]
    },
    {
      "cell_type": "code",
      "metadata": {
        "colab_type": "code",
        "id": "LpOQSi71GDlN",
        "colab": {}
      },
      "source": [
        "#Importing Libraries\n",
        "# please do go through this python notebook: \n",
        "import warnings\n",
        "warnings.filterwarnings(\"ignore\")\n",
        "\n",
        "import csv\n",
        "import pandas as pd#pandas to create small dataframes \n",
        "import datetime #Convert to unix time\n",
        "import time #Convert to unix time\n",
        "# if numpy is not installed already : pip3 install numpy\n",
        "import numpy as np#Do aritmetic operations on arrays\n",
        "# matplotlib: used to plot graphs\n",
        "import matplotlib\n",
        "import matplotlib.pylab as plt\n",
        "import seaborn as sns#Plots\n",
        "from matplotlib import rcParams#Size of plots  \n",
        "from sklearn.cluster import MiniBatchKMeans, KMeans#Clustering\n",
        "import math\n",
        "import pickle\n",
        "import os\n",
        "# to install xgboost: pip3 install xgboost\n",
        "import xgboost as xgb\n",
        "\n",
        "import warnings\n",
        "import networkx as nx\n",
        "import pdb\n",
        "import pickle\n",
        "from pandas import HDFStore,DataFrame\n",
        "from pandas import read_hdf\n",
        "from scipy.sparse.linalg import svds, eigs\n",
        "import gc\n",
        "from tqdm import tqdm"
      ],
      "execution_count": 0,
      "outputs": []
    },
    {
      "cell_type": "code",
      "metadata": {
        "colab_type": "code",
        "id": "04yxPUszGLW2",
        "outputId": "ec8fa8e7-b57c-4085-8a93-0791cf493916",
        "colab": {
          "base_uri": "https://localhost:8080/",
          "height": 122
        }
      },
      "source": [
        "from google.colab import drive\n",
        "drive.mount('/content/drive')\n"
      ],
      "execution_count": 1,
      "outputs": [
        {
          "output_type": "stream",
          "text": [
            "Go to this URL in a browser: https://accounts.google.com/o/oauth2/auth?client_id=947318989803-6bn6qk8qdgf4n4g3pfee6491hc0brc4i.apps.googleusercontent.com&redirect_uri=urn%3Aietf%3Awg%3Aoauth%3A2.0%3Aoob&scope=email%20https%3A%2F%2Fwww.googleapis.com%2Fauth%2Fdocs.test%20https%3A%2F%2Fwww.googleapis.com%2Fauth%2Fdrive%20https%3A%2F%2Fwww.googleapis.com%2Fauth%2Fdrive.photos.readonly%20https%3A%2F%2Fwww.googleapis.com%2Fauth%2Fpeopleapi.readonly&response_type=code\n",
            "\n",
            "Enter your authorization code:\n",
            "··········\n",
            "Mounted at /content/drive\n"
          ],
          "name": "stdout"
        }
      ]
    },
    {
      "cell_type": "code",
      "metadata": {
        "colab_type": "code",
        "id": "l3NyBj3uGLb3",
        "outputId": "b751efc8-ce71-4799-d681-c17e77faa944",
        "colab": {
          "base_uri": "https://localhost:8080/",
          "height": 102
        }
      },
      "source": [
        "!ls '/content/drive/My Drive/Applied AI/Facebook Friend Recommendation using Graph Mining'"
      ],
      "execution_count": 3,
      "outputs": [
        {
          "output_type": "stream",
          "text": [
            "data\t\t\t  storage_sample_stage2.h5\n",
            "FB_EDA.ipynb\t\t  xgb_clf1.pickle.dat\n",
            "FB_featurization.ipynb\t  xgb_clf.pickle.dat\n",
            "FB_Models.ipynb\t\t  xgb_fine_tuned_clf1.pickle.dat\n",
            "storage_sample_stage1.h5  xgb_fine_tuned_clf.pickle.dat\n"
          ],
          "name": "stdout"
        }
      ]
    },
    {
      "cell_type": "code",
      "metadata": {
        "colab_type": "code",
        "id": "XeMZswF_GLe2",
        "outputId": "39646d6c-8af6-4f1f-d46a-38947a547235",
        "colab": {
          "base_uri": "https://localhost:8080/",
          "height": 123
        }
      },
      "source": [
        "if os.path.isfile('/content/drive/My Drive/Applied AI/Facebook Friend Recommendation using Graph Mining/data/after_eda/train_pos_after_eda.csv'):\n",
        "    train_graph=nx.read_edgelist('/content/drive/My Drive/Applied AI/Facebook Friend Recommendation using Graph Mining/data/after_eda/train_pos_after_eda.csv',delimiter=',',create_using=nx.DiGraph(),nodetype=int)\n",
        "    print(nx.info(train_graph))\n",
        "else:\n",
        "    print(\"please run the FB_EDA.ipynb or download the files from drive\")"
      ],
      "execution_count": 0,
      "outputs": [
        {
          "output_type": "stream",
          "text": [
            "Name: \n",
            "Type: DiGraph\n",
            "Number of nodes: 1780722\n",
            "Number of edges: 7550015\n",
            "Average in degree:   4.2399\n",
            "Average out degree:   4.2399\n"
          ],
          "name": "stdout"
        }
      ]
    },
    {
      "cell_type": "code",
      "metadata": {
        "colab_type": "code",
        "id": "dQsMKp6xGLht",
        "outputId": "44a69961-0e56-41f5-8b7d-bf10b676f99c",
        "colab": {
          "base_uri": "https://localhost:8080/",
          "height": 34
        }
      },
      "source": [
        "import random\n",
        "if os.path.isfile('/content/drive/My Drive/Applied AI/Facebook Friend Recommendation using Graph Mining/data/after_eda/train_after_eda.csv'):\n",
        "    filename = \"/content/drive/My Drive/Applied AI/Facebook Friend Recommendation using Graph Mining/data/after_eda/train_after_eda.csv\"\n",
        "    # you uncomment this line, if you dont know the lentgh of the file name\n",
        "    # here we have hardcoded the number of lines as 15100030\n",
        "    # n_train = sum(1 for line in open(filename)) #number of records in file (excludes header)\n",
        "    \n",
        "    n_train =  15100028\n",
        "    s = 100000 #desired sample size\n",
        "    skip_train = sorted(random.sample(range(1,n_train+1),n_train-s))\n",
        "    #https://stackoverflow.com/a/22259008/4084039\n",
        "    print('Hi!')"
      ],
      "execution_count": 0,
      "outputs": [
        {
          "output_type": "stream",
          "text": [
            "Hi!\n"
          ],
          "name": "stdout"
        }
      ]
    },
    {
      "cell_type": "code",
      "metadata": {
        "colab_type": "code",
        "id": "OWzfsTaEGLkG",
        "outputId": "7cd517a5-0448-4ef5-fc2b-2e4d25bc1053",
        "colab": {
          "base_uri": "https://localhost:8080/",
          "height": 34
        }
      },
      "source": [
        "if os.path.isfile('/content/drive/My Drive/Applied AI/Facebook Friend Recommendation using Graph Mining/data/after_eda/train_after_eda.csv'):\n",
        "    filename = \"/content/drive/My Drive/Applied AI/Facebook Friend Recommendation using Graph Mining/data/after_eda/test_after_eda.csv\"\n",
        "    # you uncomment this line, if you dont know the lentgh of the file name\n",
        "    # here we have hardcoded the number of lines as 3775008\n",
        "    # n_test = sum(1 for line in open(filename)) #number of records in file (excludes header)\n",
        "    n_test = 3775006\n",
        "    s = 50000 #desired sample size\n",
        "    skip_test = sorted(random.sample(range(1,n_test+1),n_test-s))\n",
        "    #https://stackoverflow.com/a/22259008/4084039\n",
        "    print('Hi!')"
      ],
      "execution_count": 0,
      "outputs": [
        {
          "output_type": "stream",
          "text": [
            "Hi!\n"
          ],
          "name": "stdout"
        }
      ]
    },
    {
      "cell_type": "code",
      "metadata": {
        "colab_type": "code",
        "id": "zwC0-0CXGLmg",
        "outputId": "871fb0be-5b63-45d8-c3c5-8e6454890989",
        "colab": {
          "base_uri": "https://localhost:8080/",
          "height": 85
        }
      },
      "source": [
        "print(\"Number of rows in the train data file:\", n_train)\n",
        "print(\"Number of rows we are going to elimiate in train data are\",len(skip_train))\n",
        "print(\"Number of rows in the test data file:\", n_test)\n",
        "print(\"Number of rows we are going to elimiate in test data are\",len(skip_test))"
      ],
      "execution_count": 0,
      "outputs": [
        {
          "output_type": "stream",
          "text": [
            "Number of rows in the train data file: 15100028\n",
            "Number of rows we are going to elimiate in train data are 15000028\n",
            "Number of rows in the test data file: 3775006\n",
            "Number of rows we are going to elimiate in test data are 3725006\n"
          ],
          "name": "stdout"
        }
      ]
    },
    {
      "cell_type": "code",
      "metadata": {
        "colab_type": "code",
        "id": "kc4h4Fv4HJ9c",
        "outputId": "f1fd390e-eceb-4bff-b0f7-1114bbe492a8",
        "colab": {
          "base_uri": "https://localhost:8080/",
          "height": 128
        }
      },
      "source": [
        "df_final_train = pd.read_csv('/content/drive/My Drive/Applied AI/Facebook Friend Recommendation using Graph Mining/data/after_eda/train_after_eda.csv', skiprows=skip_train, names=['source_node', 'destination_node'])\n",
        "df_final_train['indicator_link'] = pd.read_csv('/content/drive/My Drive/Applied AI/Facebook Friend Recommendation using Graph Mining/data/train_y.csv', skiprows=skip_train, names=['indicator_link'])\n",
        "print(\"Our train matrix size \",df_final_train.shape)\n",
        "df_final_train.head(2)"
      ],
      "execution_count": 0,
      "outputs": [
        {
          "output_type": "stream",
          "text": [
            "Our train matrix size  (100002, 3)\n"
          ],
          "name": "stdout"
        },
        {
          "output_type": "execute_result",
          "data": {
            "text/html": [
              "<div>\n",
              "<style scoped>\n",
              "    .dataframe tbody tr th:only-of-type {\n",
              "        vertical-align: middle;\n",
              "    }\n",
              "\n",
              "    .dataframe tbody tr th {\n",
              "        vertical-align: top;\n",
              "    }\n",
              "\n",
              "    .dataframe thead th {\n",
              "        text-align: right;\n",
              "    }\n",
              "</style>\n",
              "<table border=\"1\" class=\"dataframe\">\n",
              "  <thead>\n",
              "    <tr style=\"text-align: right;\">\n",
              "      <th></th>\n",
              "      <th>source_node</th>\n",
              "      <th>destination_node</th>\n",
              "      <th>indicator_link</th>\n",
              "    </tr>\n",
              "  </thead>\n",
              "  <tbody>\n",
              "    <tr>\n",
              "      <th>0</th>\n",
              "      <td>273084</td>\n",
              "      <td>1505602</td>\n",
              "      <td>1</td>\n",
              "    </tr>\n",
              "    <tr>\n",
              "      <th>1</th>\n",
              "      <td>333578</td>\n",
              "      <td>879520</td>\n",
              "      <td>1</td>\n",
              "    </tr>\n",
              "  </tbody>\n",
              "</table>\n",
              "</div>"
            ],
            "text/plain": [
              "   source_node  destination_node  indicator_link\n",
              "0       273084           1505602               1\n",
              "1       333578            879520               1"
            ]
          },
          "metadata": {
            "tags": []
          },
          "execution_count": 9
        }
      ]
    },
    {
      "cell_type": "code",
      "metadata": {
        "colab_type": "code",
        "id": "_P7-HlDUHKAL",
        "outputId": "bb4e6a6f-7508-4d4b-fc12-4aef3f2774c5",
        "colab": {
          "base_uri": "https://localhost:8080/",
          "height": 128
        }
      },
      "source": [
        "df_final_test = pd.read_csv('/content/drive/My Drive/Applied AI/Facebook Friend Recommendation using Graph Mining/data/after_eda/test_after_eda.csv', skiprows=skip_test, names=['source_node', 'destination_node'])\n",
        "df_final_test['indicator_link'] = pd.read_csv('/content/drive/My Drive/Applied AI/Facebook Friend Recommendation using Graph Mining/data/test_y.csv', skiprows=skip_test, names=['indicator_link'])\n",
        "print(\"Our test matrix size \",df_final_test.shape)\n",
        "df_final_test.head(2)"
      ],
      "execution_count": 0,
      "outputs": [
        {
          "output_type": "stream",
          "text": [
            "Our test matrix size  (50002, 3)\n"
          ],
          "name": "stdout"
        },
        {
          "output_type": "execute_result",
          "data": {
            "text/html": [
              "<div>\n",
              "<style scoped>\n",
              "    .dataframe tbody tr th:only-of-type {\n",
              "        vertical-align: middle;\n",
              "    }\n",
              "\n",
              "    .dataframe tbody tr th {\n",
              "        vertical-align: top;\n",
              "    }\n",
              "\n",
              "    .dataframe thead th {\n",
              "        text-align: right;\n",
              "    }\n",
              "</style>\n",
              "<table border=\"1\" class=\"dataframe\">\n",
              "  <thead>\n",
              "    <tr style=\"text-align: right;\">\n",
              "      <th></th>\n",
              "      <th>source_node</th>\n",
              "      <th>destination_node</th>\n",
              "      <th>indicator_link</th>\n",
              "    </tr>\n",
              "  </thead>\n",
              "  <tbody>\n",
              "    <tr>\n",
              "      <th>0</th>\n",
              "      <td>848424</td>\n",
              "      <td>784690</td>\n",
              "      <td>1</td>\n",
              "    </tr>\n",
              "    <tr>\n",
              "      <th>1</th>\n",
              "      <td>1191790</td>\n",
              "      <td>1255126</td>\n",
              "      <td>1</td>\n",
              "    </tr>\n",
              "  </tbody>\n",
              "</table>\n",
              "</div>"
            ],
            "text/plain": [
              "   source_node  destination_node  indicator_link\n",
              "0       848424            784690               1\n",
              "1      1191790           1255126               1"
            ]
          },
          "metadata": {
            "tags": []
          },
          "execution_count": 10
        }
      ]
    },
    {
      "cell_type": "code",
      "metadata": {
        "colab_type": "code",
        "id": "pVRk-qZ8HKCj",
        "colab": {}
      },
      "source": [
        ""
      ],
      "execution_count": 0,
      "outputs": []
    },
    {
      "cell_type": "code",
      "metadata": {
        "colab_type": "code",
        "id": "Zt1orGttHKFE",
        "colab": {}
      },
      "source": [
        "def compute_features_stage1(df_final):\n",
        "    #calculating no of followers followees for source and destination\n",
        "    #calculating intersection of followers and followees for source and destination\n",
        "    num_followers_s=[]\n",
        "    num_followees_s=[]\n",
        "    num_followers_d=[]\n",
        "    num_followees_d=[]\n",
        "    inter_followers=[]\n",
        "    inter_followees=[]\n",
        "    for i,row in df_final.iterrows():\n",
        "        try:\n",
        "            s1=set(train_graph.predecessors(row['source_node']))\n",
        "            s2=set(train_graph.successors(row['source_node']))\n",
        "        except:\n",
        "            s1 = set()\n",
        "            s2 = set()\n",
        "        try:\n",
        "            d1=set(train_graph.predecessors(row['destination_node']))\n",
        "            d2=set(train_graph.successors(row['destination_node']))\n",
        "        except:\n",
        "            d1 = set()\n",
        "            d2 = set()\n",
        "        num_followers_s.append(len(s1))\n",
        "        num_followees_s.append(len(s2))\n",
        "\n",
        "        num_followers_d.append(len(d1))\n",
        "        num_followees_d.append(len(d2))\n",
        "        print(d2)\n",
        "\n",
        "        inter_followers.append(len(s1.intersection(d1)))\n",
        "        inter_followees.append(len(s2.intersection(d2)))\n",
        "    \n",
        "    return num_followers_s, num_followers_d, num_followees_s, num_followees_d, inter_followers, inter_followees"
      ],
      "execution_count": 0,
      "outputs": []
    },
    {
      "cell_type": "code",
      "metadata": {
        "colab_type": "code",
        "id": "UmYHCoY1LF96",
        "colab": {}
      },
      "source": [
        "if not os.path.isfile('/content/drive/My Drive/Applied AI/Facebook Friend Recommendation using Graph Mining/storage_sample_stage1.h5'):\n",
        "    print('start')\n",
        "    df_final_train['num_followers_s'], df_final_train['num_followers_d'], \\\n",
        "    df_final_train['num_followees_s'], df_final_train['num_followees_d'], \\\n",
        "    df_final_train['inter_followers'], df_final_train['inter_followees']= compute_features_stage1(df_final_train)\n",
        "    \n",
        "    df_final_test['num_followers_s'], df_final_test['num_followers_d'], \\\n",
        "    df_final_test['num_followees_s'], df_final_test['num_followees_d'], \\\n",
        "    df_final_test['inter_followers'], df_final_test['inter_followees']= compute_features_stage1(df_final_test)\n",
        "    \n",
        "    hdf = HDFStore('/content/drive/My Drive/Applied AI/Facebook Friend Recommendation using Graph Mining/storage_sample_stage1.h5')\n",
        "    hdf.put('train_df',df_final_train, format='table', data_columns=True)\n",
        "    hdf.put('test_df',df_final_test, format='table', data_columns=True)\n",
        "    hdf.close()\n",
        "    print('end')\n",
        "else:\n",
        "    df_final_train = read_hdf('data/fea_sample/storage_sample_stage1.h5', 'train_df',mode='r')\n",
        "    df_final_test = read_hdf('data/fea_sample/storage_sample_stage1.h5', 'test_df',mode='r')"
      ],
      "execution_count": 0,
      "outputs": []
    },
    {
      "cell_type": "code",
      "metadata": {
        "colab_type": "code",
        "id": "vpSiZAn-HKIF",
        "colab": {}
      },
      "source": [
        "from pandas import read_hdf\n",
        "df_final_train = read_hdf('/content/drive/My Drive/Applied AI/Facebook Friend Recommendation using Graph Mining/storage_sample_stage1.h5', 'train_df',mode='r')\n",
        "df_final_test = read_hdf('/content/drive/My Drive/Applied AI/Facebook Friend Recommendation using Graph Mining/storage_sample_stage1.h5', 'test_df',mode='r')"
      ],
      "execution_count": 0,
      "outputs": []
    },
    {
      "cell_type": "code",
      "metadata": {
        "colab_type": "code",
        "id": "1n_OWOY_TsCM",
        "outputId": "9029f0b8-c070-4c90-c491-9518f9eff1fa",
        "colab": {
          "base_uri": "https://localhost:8080/",
          "height": 85
        }
      },
      "source": [
        "df_final_train.columns"
      ],
      "execution_count": 0,
      "outputs": [
        {
          "output_type": "execute_result",
          "data": {
            "text/plain": [
              "Index(['source_node', 'destination_node', 'indicator_link', 'num_followers_s',\n",
              "       'num_followers_d', 'num_followees_s', 'num_followees_d',\n",
              "       'inter_followers', 'inter_followees'],\n",
              "      dtype='object')"
            ]
          },
          "metadata": {
            "tags": []
          },
          "execution_count": 15
        }
      ]
    },
    {
      "cell_type": "code",
      "metadata": {
        "colab_type": "code",
        "id": "jcU5C8ScTsKg",
        "outputId": "f56c5260-6bcf-432f-c1a2-c27841af1f19",
        "colab": {
          "base_uri": "https://localhost:8080/",
          "height": 102
        }
      },
      "source": [
        "from pandas import read_hdf\n",
        "df_final_train = read_hdf('/content/drive/My Drive/Applied AI/Facebook Friend Recommendation using Graph Mining/data/fea_sample/storage_sample_stage1.h5', 'train_df',mode='r')\n",
        "df_final_test = read_hdf('/content/drive/My Drive/Applied AI/Facebook Friend Recommendation using Graph Mining/data/fea_sample/storage_sample_stage1.h5', 'test_df',mode='r')\n",
        "df_final_train.columns"
      ],
      "execution_count": 0,
      "outputs": [
        {
          "output_type": "execute_result",
          "data": {
            "text/plain": [
              "Index(['source_node', 'destination_node', 'indicator_link',\n",
              "       'jaccard_followers', 'jaccard_followees', 'cosine_followers',\n",
              "       'cosine_followees', 'num_followers_s', 'num_followees_s',\n",
              "       'num_followees_d', 'inter_followers', 'inter_followees'],\n",
              "      dtype='object')"
            ]
          },
          "metadata": {
            "tags": []
          },
          "execution_count": 17
        }
      ]
    },
    {
      "cell_type": "code",
      "metadata": {
        "colab_type": "code",
        "id": "MPvwi4i-WtA1",
        "colab": {}
      },
      "source": [
        "from pandas import read_hdf\n",
        "df_final_train = read_hdf('/content/drive/My Drive/Applied AI/Facebook Friend Recommendation using Graph Mining/storage_sample_stage1.h5', 'train_df',mode='r')\n",
        "df_final_test = read_hdf('/content/drive/My Drive/Applied AI/Facebook Friend Recommendation using Graph Mining/storage_sample_stage1.h5', 'test_df',mode='r')"
      ],
      "execution_count": 0,
      "outputs": []
    },
    {
      "cell_type": "code",
      "metadata": {
        "colab_type": "code",
        "id": "DAr4Ra10WtJC",
        "outputId": "6d521603-f936-4651-ae98-d5225d07f5bc",
        "colab": {
          "base_uri": "https://localhost:8080/",
          "height": 204
        }
      },
      "source": [
        "df_final_train.head()"
      ],
      "execution_count": 0,
      "outputs": [
        {
          "output_type": "execute_result",
          "data": {
            "text/html": [
              "<div>\n",
              "<style scoped>\n",
              "    .dataframe tbody tr th:only-of-type {\n",
              "        vertical-align: middle;\n",
              "    }\n",
              "\n",
              "    .dataframe tbody tr th {\n",
              "        vertical-align: top;\n",
              "    }\n",
              "\n",
              "    .dataframe thead th {\n",
              "        text-align: right;\n",
              "    }\n",
              "</style>\n",
              "<table border=\"1\" class=\"dataframe\">\n",
              "  <thead>\n",
              "    <tr style=\"text-align: right;\">\n",
              "      <th></th>\n",
              "      <th>source_node</th>\n",
              "      <th>destination_node</th>\n",
              "      <th>indicator_link</th>\n",
              "      <th>num_followers_s</th>\n",
              "      <th>num_followers_d</th>\n",
              "      <th>num_followees_s</th>\n",
              "      <th>num_followees_d</th>\n",
              "      <th>inter_followers</th>\n",
              "      <th>inter_followees</th>\n",
              "    </tr>\n",
              "  </thead>\n",
              "  <tbody>\n",
              "    <tr>\n",
              "      <th>0</th>\n",
              "      <td>273084</td>\n",
              "      <td>1505602</td>\n",
              "      <td>1</td>\n",
              "      <td>11</td>\n",
              "      <td>6</td>\n",
              "      <td>15</td>\n",
              "      <td>8</td>\n",
              "      <td>0</td>\n",
              "      <td>0</td>\n",
              "    </tr>\n",
              "    <tr>\n",
              "      <th>1</th>\n",
              "      <td>333578</td>\n",
              "      <td>879520</td>\n",
              "      <td>1</td>\n",
              "      <td>1</td>\n",
              "      <td>2</td>\n",
              "      <td>3</td>\n",
              "      <td>1</td>\n",
              "      <td>0</td>\n",
              "      <td>1</td>\n",
              "    </tr>\n",
              "    <tr>\n",
              "      <th>2</th>\n",
              "      <td>679765</td>\n",
              "      <td>1773023</td>\n",
              "      <td>1</td>\n",
              "      <td>7</td>\n",
              "      <td>8</td>\n",
              "      <td>5</td>\n",
              "      <td>5</td>\n",
              "      <td>5</td>\n",
              "      <td>2</td>\n",
              "    </tr>\n",
              "    <tr>\n",
              "      <th>3</th>\n",
              "      <td>605761</td>\n",
              "      <td>1236701</td>\n",
              "      <td>1</td>\n",
              "      <td>9</td>\n",
              "      <td>2</td>\n",
              "      <td>14</td>\n",
              "      <td>1</td>\n",
              "      <td>0</td>\n",
              "      <td>1</td>\n",
              "    </tr>\n",
              "    <tr>\n",
              "      <th>4</th>\n",
              "      <td>542584</td>\n",
              "      <td>1431345</td>\n",
              "      <td>1</td>\n",
              "      <td>6</td>\n",
              "      <td>36</td>\n",
              "      <td>43</td>\n",
              "      <td>27</td>\n",
              "      <td>3</td>\n",
              "      <td>19</td>\n",
              "    </tr>\n",
              "  </tbody>\n",
              "</table>\n",
              "</div>"
            ],
            "text/plain": [
              "   source_node  destination_node  ...  inter_followers  inter_followees\n",
              "0       273084           1505602  ...                0                0\n",
              "1       333578            879520  ...                0                1\n",
              "2       679765           1773023  ...                5                2\n",
              "3       605761           1236701  ...                0                1\n",
              "4       542584           1431345  ...                3               19\n",
              "\n",
              "[5 rows x 9 columns]"
            ]
          },
          "metadata": {
            "tags": []
          },
          "execution_count": 21
        }
      ]
    },
    {
      "cell_type": "code",
      "metadata": {
        "colab_type": "code",
        "id": "PEdnt1VYW_My",
        "outputId": "508d293d-a0a0-43d2-ffa3-b0ce4881c517",
        "colab": {
          "base_uri": "https://localhost:8080/",
          "height": 224
        }
      },
      "source": [
        "df_final_train['Preferential_Attachment'] = df_final_train.num_followers_s * df_final_train.num_followers_d\n",
        "df_final_train.head()"
      ],
      "execution_count": 0,
      "outputs": [
        {
          "output_type": "execute_result",
          "data": {
            "text/html": [
              "<div>\n",
              "<style scoped>\n",
              "    .dataframe tbody tr th:only-of-type {\n",
              "        vertical-align: middle;\n",
              "    }\n",
              "\n",
              "    .dataframe tbody tr th {\n",
              "        vertical-align: top;\n",
              "    }\n",
              "\n",
              "    .dataframe thead th {\n",
              "        text-align: right;\n",
              "    }\n",
              "</style>\n",
              "<table border=\"1\" class=\"dataframe\">\n",
              "  <thead>\n",
              "    <tr style=\"text-align: right;\">\n",
              "      <th></th>\n",
              "      <th>source_node</th>\n",
              "      <th>destination_node</th>\n",
              "      <th>indicator_link</th>\n",
              "      <th>num_followers_s</th>\n",
              "      <th>num_followers_d</th>\n",
              "      <th>num_followees_s</th>\n",
              "      <th>num_followees_d</th>\n",
              "      <th>inter_followers</th>\n",
              "      <th>inter_followees</th>\n",
              "      <th>Preferential_Attachment</th>\n",
              "    </tr>\n",
              "  </thead>\n",
              "  <tbody>\n",
              "    <tr>\n",
              "      <th>0</th>\n",
              "      <td>273084</td>\n",
              "      <td>1505602</td>\n",
              "      <td>1</td>\n",
              "      <td>11</td>\n",
              "      <td>6</td>\n",
              "      <td>15</td>\n",
              "      <td>8</td>\n",
              "      <td>0</td>\n",
              "      <td>0</td>\n",
              "      <td>66</td>\n",
              "    </tr>\n",
              "    <tr>\n",
              "      <th>1</th>\n",
              "      <td>333578</td>\n",
              "      <td>879520</td>\n",
              "      <td>1</td>\n",
              "      <td>1</td>\n",
              "      <td>2</td>\n",
              "      <td>3</td>\n",
              "      <td>1</td>\n",
              "      <td>0</td>\n",
              "      <td>1</td>\n",
              "      <td>2</td>\n",
              "    </tr>\n",
              "    <tr>\n",
              "      <th>2</th>\n",
              "      <td>679765</td>\n",
              "      <td>1773023</td>\n",
              "      <td>1</td>\n",
              "      <td>7</td>\n",
              "      <td>8</td>\n",
              "      <td>5</td>\n",
              "      <td>5</td>\n",
              "      <td>5</td>\n",
              "      <td>2</td>\n",
              "      <td>56</td>\n",
              "    </tr>\n",
              "    <tr>\n",
              "      <th>3</th>\n",
              "      <td>605761</td>\n",
              "      <td>1236701</td>\n",
              "      <td>1</td>\n",
              "      <td>9</td>\n",
              "      <td>2</td>\n",
              "      <td>14</td>\n",
              "      <td>1</td>\n",
              "      <td>0</td>\n",
              "      <td>1</td>\n",
              "      <td>18</td>\n",
              "    </tr>\n",
              "    <tr>\n",
              "      <th>4</th>\n",
              "      <td>542584</td>\n",
              "      <td>1431345</td>\n",
              "      <td>1</td>\n",
              "      <td>6</td>\n",
              "      <td>36</td>\n",
              "      <td>43</td>\n",
              "      <td>27</td>\n",
              "      <td>3</td>\n",
              "      <td>19</td>\n",
              "      <td>216</td>\n",
              "    </tr>\n",
              "  </tbody>\n",
              "</table>\n",
              "</div>"
            ],
            "text/plain": [
              "   source_node  destination_node  ...  inter_followees  Preferential_Attachment\n",
              "0       273084           1505602  ...                0                       66\n",
              "1       333578            879520  ...                1                        2\n",
              "2       679765           1773023  ...                2                       56\n",
              "3       605761           1236701  ...                1                       18\n",
              "4       542584           1431345  ...               19                      216\n",
              "\n",
              "[5 rows x 10 columns]"
            ]
          },
          "metadata": {
            "tags": []
          },
          "execution_count": 22
        }
      ]
    },
    {
      "cell_type": "code",
      "metadata": {
        "colab_type": "code",
        "id": "cMqYCVV6XtWE",
        "colab": {}
      },
      "source": [
        "df_final_test['Preferential_Attachment'] = df_final_test.num_followers_s * df_final_test.num_followers_d\n"
      ],
      "execution_count": 0,
      "outputs": []
    },
    {
      "cell_type": "code",
      "metadata": {
        "colab_type": "code",
        "id": "jFrSZE2nYBBs",
        "outputId": "3c9bdb04-3ef7-4a72-befb-f8c2fd9b0cf5",
        "colab": {
          "base_uri": "https://localhost:8080/",
          "height": 34
        }
      },
      "source": [
        "hdf = HDFStore('/content/drive/My Drive/Applied AI/Facebook Friend Recommendation using Graph Mining/storage_sample_stage1.h5')\n",
        "hdf.put('train_df',df_final_train, format='table', data_columns=True)\n",
        "hdf.put('test_df',df_final_test, format='table', data_columns=True)\n",
        "hdf.close()\n",
        "print('Closed')"
      ],
      "execution_count": 0,
      "outputs": [
        {
          "output_type": "stream",
          "text": [
            "Closed\n"
          ],
          "name": "stdout"
        }
      ]
    },
    {
      "cell_type": "code",
      "metadata": {
        "colab_type": "code",
        "id": "e4srR4E_YBFC",
        "outputId": "86f55fb6-b842-4c80-b6c6-5cbcfa8c2dde",
        "colab": {
          "base_uri": "https://localhost:8080/",
          "height": 238
        }
      },
      "source": [
        "from pandas import read_hdf\n",
        "df_final_train1 = read_hdf('/content/drive/My Drive/Applied AI/Facebook Friend Recommendation using Graph Mining/data/fea_sample/storage_sample_stage4.h5', 'train_df',mode='r')\n",
        "df_final_test1 = read_hdf('/content/drive/My Drive/Applied AI/Facebook Friend Recommendation using Graph Mining/data/fea_sample/storage_sample_stage4.h5', 'test_df',mode='r')\n",
        "df_final_train1.columns"
      ],
      "execution_count": 0,
      "outputs": [
        {
          "output_type": "execute_result",
          "data": {
            "text/plain": [
              "Index(['source_node', 'destination_node', 'indicator_link',\n",
              "       'jaccard_followers', 'jaccard_followees', 'cosine_followers',\n",
              "       'cosine_followees', 'num_followers_s', 'num_followees_s',\n",
              "       'num_followees_d', 'inter_followers', 'inter_followees', 'adar_index',\n",
              "       'follows_back', 'same_comp', 'shortest_path', 'weight_in', 'weight_out',\n",
              "       'weight_f1', 'weight_f2', 'weight_f3', 'weight_f4', 'page_rank_s',\n",
              "       'page_rank_d', 'katz_s', 'katz_d', 'hubs_s', 'hubs_d', 'authorities_s',\n",
              "       'authorities_d', 'svd_u_s_1', 'svd_u_s_2', 'svd_u_s_3', 'svd_u_s_4',\n",
              "       'svd_u_s_5', 'svd_u_s_6', 'svd_u_d_1', 'svd_u_d_2', 'svd_u_d_3',\n",
              "       'svd_u_d_4', 'svd_u_d_5', 'svd_u_d_6', 'svd_v_s_1', 'svd_v_s_2',\n",
              "       'svd_v_s_3', 'svd_v_s_4', 'svd_v_s_5', 'svd_v_s_6', 'svd_v_d_1',\n",
              "       'svd_v_d_2', 'svd_v_d_3', 'svd_v_d_4', 'svd_v_d_5', 'svd_v_d_6'],\n",
              "      dtype='object')"
            ]
          },
          "metadata": {
            "tags": []
          },
          "execution_count": 28
        }
      ]
    },
    {
      "cell_type": "code",
      "metadata": {
        "colab_type": "code",
        "id": "VxjNOHj1YBIa",
        "outputId": "549d2ab1-9764-43ee-f9c7-ee1b4a48b45c",
        "colab": {
          "base_uri": "https://localhost:8080/",
          "height": 255
        }
      },
      "source": [
        "df_final_train1['Preferential_Attachment'] = df_final_train.Preferential_Attachment\n",
        "df_final_test1['Preferential_Attachment'] = df_final_test.Preferential_Attachment\n",
        "df_final_train1.columns"
      ],
      "execution_count": 0,
      "outputs": [
        {
          "output_type": "execute_result",
          "data": {
            "text/plain": [
              "Index(['source_node', 'destination_node', 'indicator_link',\n",
              "       'jaccard_followers', 'jaccard_followees', 'cosine_followers',\n",
              "       'cosine_followees', 'num_followers_s', 'num_followees_s',\n",
              "       'num_followees_d', 'inter_followers', 'inter_followees', 'adar_index',\n",
              "       'follows_back', 'same_comp', 'shortest_path', 'weight_in', 'weight_out',\n",
              "       'weight_f1', 'weight_f2', 'weight_f3', 'weight_f4', 'page_rank_s',\n",
              "       'page_rank_d', 'katz_s', 'katz_d', 'hubs_s', 'hubs_d', 'authorities_s',\n",
              "       'authorities_d', 'svd_u_s_1', 'svd_u_s_2', 'svd_u_s_3', 'svd_u_s_4',\n",
              "       'svd_u_s_5', 'svd_u_s_6', 'svd_u_d_1', 'svd_u_d_2', 'svd_u_d_3',\n",
              "       'svd_u_d_4', 'svd_u_d_5', 'svd_u_d_6', 'svd_v_s_1', 'svd_v_s_2',\n",
              "       'svd_v_s_3', 'svd_v_s_4', 'svd_v_s_5', 'svd_v_s_6', 'svd_v_d_1',\n",
              "       'svd_v_d_2', 'svd_v_d_3', 'svd_v_d_4', 'svd_v_d_5', 'svd_v_d_6',\n",
              "       'Preferential_Attachment'],\n",
              "      dtype='object')"
            ]
          },
          "metadata": {
            "tags": []
          },
          "execution_count": 29
        }
      ]
    },
    {
      "cell_type": "code",
      "metadata": {
        "colab_type": "code",
        "id": "eTbnuwldfN_Y",
        "outputId": "9375405f-df0b-4573-f250-db63194fb025",
        "colab": {
          "base_uri": "https://localhost:8080/",
          "height": 272
        }
      },
      "source": [
        "df_final_train1['svd_dot_1'] = df_final_train1.svd_u_s_1 * df_final_train1.svd_u_d_1\n",
        "df_final_train1['svd_dot_2'] = df_final_train1.svd_u_s_2 * df_final_train1.svd_u_d_2\n",
        "df_final_train1['svd_dot_3'] = df_final_train1.svd_u_s_3 * df_final_train1.svd_u_d_3\n",
        "df_final_train1['svd_dot_4'] = df_final_train1.svd_u_s_4 * df_final_train1.svd_u_d_4\n",
        "df_final_train1['svd_dot_5'] = df_final_train1.svd_u_s_5 * df_final_train1.svd_u_d_5\n",
        "df_final_train1['svd_dot_6'] = df_final_train1.svd_u_s_6 * df_final_train1.svd_u_d_6\n",
        "\n",
        "df_final_train1.columns"
      ],
      "execution_count": 0,
      "outputs": [
        {
          "output_type": "execute_result",
          "data": {
            "text/plain": [
              "Index(['source_node', 'destination_node', 'indicator_link',\n",
              "       'jaccard_followers', 'jaccard_followees', 'cosine_followers',\n",
              "       'cosine_followees', 'num_followers_s', 'num_followees_s',\n",
              "       'num_followees_d', 'inter_followers', 'inter_followees', 'adar_index',\n",
              "       'follows_back', 'same_comp', 'shortest_path', 'weight_in', 'weight_out',\n",
              "       'weight_f1', 'weight_f2', 'weight_f3', 'weight_f4', 'page_rank_s',\n",
              "       'page_rank_d', 'katz_s', 'katz_d', 'hubs_s', 'hubs_d', 'authorities_s',\n",
              "       'authorities_d', 'svd_u_s_1', 'svd_u_s_2', 'svd_u_s_3', 'svd_u_s_4',\n",
              "       'svd_u_s_5', 'svd_u_s_6', 'svd_u_d_1', 'svd_u_d_2', 'svd_u_d_3',\n",
              "       'svd_u_d_4', 'svd_u_d_5', 'svd_u_d_6', 'svd_v_s_1', 'svd_v_s_2',\n",
              "       'svd_v_s_3', 'svd_v_s_4', 'svd_v_s_5', 'svd_v_s_6', 'svd_v_d_1',\n",
              "       'svd_v_d_2', 'svd_v_d_3', 'svd_v_d_4', 'svd_v_d_5', 'svd_v_d_6',\n",
              "       'Preferential_Attachment', 'svd_dot_1', 'svd_dot_2', 'svd_dot_3',\n",
              "       'svd_dot_4', 'svd_dot_5', 'svd_dot_6'],\n",
              "      dtype='object')"
            ]
          },
          "metadata": {
            "tags": []
          },
          "execution_count": 30
        }
      ]
    },
    {
      "cell_type": "code",
      "metadata": {
        "colab_type": "code",
        "id": "xkEUKzh6f-Cb",
        "outputId": "7ff327d4-10eb-476a-ea59-316289f9a5fd",
        "colab": {
          "base_uri": "https://localhost:8080/",
          "height": 272
        }
      },
      "source": [
        "df_final_test1['svd_dot_1'] = df_final_test1.svd_u_s_1 * df_final_test1.svd_u_d_1\n",
        "df_final_test1['svd_dot_2'] = df_final_test1.svd_u_s_2 * df_final_test1.svd_u_d_2\n",
        "df_final_test1['svd_dot_3'] = df_final_test1.svd_u_s_3 * df_final_test1.svd_u_d_3\n",
        "df_final_test1['svd_dot_4'] = df_final_test1.svd_u_s_4 * df_final_test1.svd_u_d_4\n",
        "df_final_test1['svd_dot_5'] = df_final_test1.svd_u_s_5 * df_final_test1.svd_u_d_5\n",
        "df_final_test1['svd_dot_6'] = df_final_test1.svd_u_s_6 * df_final_test1.svd_u_d_6\n",
        "\n",
        "df_final_test1.columns"
      ],
      "execution_count": 0,
      "outputs": [
        {
          "output_type": "execute_result",
          "data": {
            "text/plain": [
              "Index(['source_node', 'destination_node', 'indicator_link',\n",
              "       'jaccard_followers', 'jaccard_followees', 'cosine_followers',\n",
              "       'cosine_followees', 'num_followers_s', 'num_followees_s',\n",
              "       'num_followees_d', 'inter_followers', 'inter_followees', 'adar_index',\n",
              "       'follows_back', 'same_comp', 'shortest_path', 'weight_in', 'weight_out',\n",
              "       'weight_f1', 'weight_f2', 'weight_f3', 'weight_f4', 'page_rank_s',\n",
              "       'page_rank_d', 'katz_s', 'katz_d', 'hubs_s', 'hubs_d', 'authorities_s',\n",
              "       'authorities_d', 'svd_u_s_1', 'svd_u_s_2', 'svd_u_s_3', 'svd_u_s_4',\n",
              "       'svd_u_s_5', 'svd_u_s_6', 'svd_u_d_1', 'svd_u_d_2', 'svd_u_d_3',\n",
              "       'svd_u_d_4', 'svd_u_d_5', 'svd_u_d_6', 'svd_v_s_1', 'svd_v_s_2',\n",
              "       'svd_v_s_3', 'svd_v_s_4', 'svd_v_s_5', 'svd_v_s_6', 'svd_v_d_1',\n",
              "       'svd_v_d_2', 'svd_v_d_3', 'svd_v_d_4', 'svd_v_d_5', 'svd_v_d_6',\n",
              "       'Preferential_Attachment', 'svd_dot_1', 'svd_dot_2', 'svd_dot_3',\n",
              "       'svd_dot_4', 'svd_dot_5', 'svd_dot_6'],\n",
              "      dtype='object')"
            ]
          },
          "metadata": {
            "tags": []
          },
          "execution_count": 31
        }
      ]
    },
    {
      "cell_type": "code",
      "metadata": {
        "colab_type": "code",
        "id": "lhYMtOhil1hu",
        "outputId": "24f9922c-680c-462e-efca-c7520a125ac9",
        "colab": {
          "base_uri": "https://localhost:8080/",
          "height": 34
        }
      },
      "source": [
        "hdf = HDFStore('/content/drive/My Drive/Applied AI/Facebook Friend Recommendation using Graph Mining/storage_sample_stage2.h5')\n",
        "hdf.put('train_df',df_final_train1, format='table', data_columns=True)\n",
        "hdf.put('test_df',df_final_test1, format='table', data_columns=True)\n",
        "hdf.close()\n",
        "print('Closed')"
      ],
      "execution_count": 0,
      "outputs": [
        {
          "output_type": "stream",
          "text": [
            "Closed\n"
          ],
          "name": "stdout"
        }
      ]
    },
    {
      "cell_type": "code",
      "metadata": {
        "colab_type": "code",
        "id": "s7FfAnOXrxlG",
        "colab": {}
      },
      "source": [
        "#Importing Libraries\n",
        "# please do go through this python notebook: \n",
        "import warnings\n",
        "warnings.filterwarnings(\"ignore\")\n",
        "\n",
        "import csv\n",
        "import pandas as pd#pandas to create small dataframes \n",
        "import datetime #Convert to unix time\n",
        "import time #Convert to unix time\n",
        "# if numpy is not installed already : pip3 install numpy\n",
        "import numpy as np#Do aritmetic operations on arrays\n",
        "# matplotlib: used to plot graphs\n",
        "import matplotlib\n",
        "import matplotlib.pylab as plt\n",
        "import seaborn as sns#Plots\n",
        "from matplotlib import rcParams#Size of plots  \n",
        "from sklearn.cluster import MiniBatchKMeans, KMeans#Clustering\n",
        "import math\n",
        "import pickle\n",
        "import os\n",
        "# to install xgboost: pip3 install xgboost\n",
        "import xgboost as xgb\n",
        "\n",
        "import warnings\n",
        "import networkx as nx\n",
        "import pdb\n",
        "import pickle\n",
        "from pandas import HDFStore,DataFrame\n",
        "from pandas import read_hdf\n",
        "from scipy.sparse.linalg import svds, eigs\n",
        "import gc\n",
        "from tqdm import tqdm\n",
        "from sklearn.ensemble import RandomForestClassifier\n",
        "from sklearn.metrics import f1_score\n",
        "from xgboost import XGBClassifier\n",
        "from pandas import read_hdf"
      ],
      "execution_count": 0,
      "outputs": []
    },
    {
      "cell_type": "code",
      "metadata": {
        "colab_type": "code",
        "id": "5uirxf62rzNL",
        "colab": {}
      },
      "source": [
        "\n",
        "df_final_train = read_hdf('/content/drive/My Drive/Applied AI/Facebook Friend Recommendation using Graph Mining/storage_sample_stage2.h5', 'train_df',mode='r')\n",
        "df_final_test = read_hdf('/content/drive/My Drive/Applied AI/Facebook Friend Recommendation using Graph Mining/storage_sample_stage2.h5', 'test_df',mode='r')\n"
      ],
      "execution_count": 0,
      "outputs": []
    },
    {
      "cell_type": "code",
      "metadata": {
        "colab_type": "code",
        "id": "0rAcNJA_sOjo",
        "outputId": "9cceb59e-eab7-4743-aabe-7cfc3700d443",
        "colab": {
          "base_uri": "https://localhost:8080/",
          "height": 272
        }
      },
      "source": [
        "df_final_train.columns\n"
      ],
      "execution_count": 6,
      "outputs": [
        {
          "output_type": "execute_result",
          "data": {
            "text/plain": [
              "Index(['source_node', 'destination_node', 'indicator_link',\n",
              "       'jaccard_followers', 'jaccard_followees', 'cosine_followers',\n",
              "       'cosine_followees', 'num_followers_s', 'num_followees_s',\n",
              "       'num_followees_d', 'inter_followers', 'inter_followees', 'adar_index',\n",
              "       'follows_back', 'same_comp', 'shortest_path', 'weight_in', 'weight_out',\n",
              "       'weight_f1', 'weight_f2', 'weight_f3', 'weight_f4', 'page_rank_s',\n",
              "       'page_rank_d', 'katz_s', 'katz_d', 'hubs_s', 'hubs_d', 'authorities_s',\n",
              "       'authorities_d', 'svd_u_s_1', 'svd_u_s_2', 'svd_u_s_3', 'svd_u_s_4',\n",
              "       'svd_u_s_5', 'svd_u_s_6', 'svd_u_d_1', 'svd_u_d_2', 'svd_u_d_3',\n",
              "       'svd_u_d_4', 'svd_u_d_5', 'svd_u_d_6', 'svd_v_s_1', 'svd_v_s_2',\n",
              "       'svd_v_s_3', 'svd_v_s_4', 'svd_v_s_5', 'svd_v_s_6', 'svd_v_d_1',\n",
              "       'svd_v_d_2', 'svd_v_d_3', 'svd_v_d_4', 'svd_v_d_5', 'svd_v_d_6',\n",
              "       'Preferential_Attachment', 'svd_dot_1', 'svd_dot_2', 'svd_dot_3',\n",
              "       'svd_dot_4', 'svd_dot_5', 'svd_dot_6'],\n",
              "      dtype='object')"
            ]
          },
          "metadata": {
            "tags": []
          },
          "execution_count": 6
        }
      ]
    },
    {
      "cell_type": "code",
      "metadata": {
        "colab_type": "code",
        "id": "fL6ejqFsczOs",
        "outputId": "fff69699-5458-4c42-9c93-c75d546e59fb",
        "colab": {
          "base_uri": "https://localhost:8080/",
          "height": 272
        }
      },
      "source": [
        "df_final_test.columns"
      ],
      "execution_count": 7,
      "outputs": [
        {
          "output_type": "execute_result",
          "data": {
            "text/plain": [
              "Index(['source_node', 'destination_node', 'indicator_link',\n",
              "       'jaccard_followers', 'jaccard_followees', 'cosine_followers',\n",
              "       'cosine_followees', 'num_followers_s', 'num_followees_s',\n",
              "       'num_followees_d', 'inter_followers', 'inter_followees', 'adar_index',\n",
              "       'follows_back', 'same_comp', 'shortest_path', 'weight_in', 'weight_out',\n",
              "       'weight_f1', 'weight_f2', 'weight_f3', 'weight_f4', 'page_rank_s',\n",
              "       'page_rank_d', 'katz_s', 'katz_d', 'hubs_s', 'hubs_d', 'authorities_s',\n",
              "       'authorities_d', 'svd_u_s_1', 'svd_u_s_2', 'svd_u_s_3', 'svd_u_s_4',\n",
              "       'svd_u_s_5', 'svd_u_s_6', 'svd_u_d_1', 'svd_u_d_2', 'svd_u_d_3',\n",
              "       'svd_u_d_4', 'svd_u_d_5', 'svd_u_d_6', 'svd_v_s_1', 'svd_v_s_2',\n",
              "       'svd_v_s_3', 'svd_v_s_4', 'svd_v_s_5', 'svd_v_s_6', 'svd_v_d_1',\n",
              "       'svd_v_d_2', 'svd_v_d_3', 'svd_v_d_4', 'svd_v_d_5', 'svd_v_d_6',\n",
              "       'Preferential_Attachment', 'svd_dot_1', 'svd_dot_2', 'svd_dot_3',\n",
              "       'svd_dot_4', 'svd_dot_5', 'svd_dot_6'],\n",
              "      dtype='object')"
            ]
          },
          "metadata": {
            "tags": []
          },
          "execution_count": 7
        }
      ]
    },
    {
      "cell_type": "code",
      "metadata": {
        "colab_type": "code",
        "id": "1ym3-Todc5TF",
        "outputId": "0f3b0769-9557-49db-d618-9168be74347a",
        "colab": {
          "base_uri": "https://localhost:8080/",
          "height": 34
        }
      },
      "source": [
        "df_final_train = df_final_train.drop(['svd_dot_1', 'svd_dot_2', 'svd_dot_3', 'svd_dot_4', 'svd_dot_5', 'svd_dot_6'], axis = 1)\n",
        "df_final_test = df_final_test.drop(['svd_dot_1', 'svd_dot_2', 'svd_dot_3', 'svd_dot_4', 'svd_dot_5', 'svd_dot_6'], axis = 1)\n",
        "df_final_train.shape, df_final_test.shape"
      ],
      "execution_count": 8,
      "outputs": [
        {
          "output_type": "execute_result",
          "data": {
            "text/plain": [
              "((100002, 55), (50002, 55))"
            ]
          },
          "metadata": {
            "tags": []
          },
          "execution_count": 8
        }
      ]
    },
    {
      "cell_type": "markdown",
      "metadata": {
        "id": "OmesAhPQJVJE",
        "colab_type": "text"
      },
      "source": [
        "# Updated svd dot product"
      ]
    },
    {
      "cell_type": "code",
      "metadata": {
        "colab_type": "code",
        "id": "W3MrmKdggoRK",
        "outputId": "76401296-df08-47d9-c45a-b96c26a1919d",
        "colab": {
          "base_uri": "https://localhost:8080/",
          "height": 34
        }
      },
      "source": [
        "a = df_final_train.iloc[:, 30:36].values\n",
        "b = df_final_train.iloc[:, 36:42].values\n",
        "c = df_final_train.iloc[:, 42:48].values\n",
        "d = df_final_train.iloc[:, 48:54].values\n",
        "a.shape, b.shape, c.shape, d.shape"
      ],
      "execution_count": 9,
      "outputs": [
        {
          "output_type": "execute_result",
          "data": {
            "text/plain": [
              "((100002, 6), (100002, 6), (100002, 6), (100002, 6))"
            ]
          },
          "metadata": {
            "tags": []
          },
          "execution_count": 9
        }
      ]
    },
    {
      "cell_type": "code",
      "metadata": {
        "colab_type": "code",
        "id": "he3C4RwSh599",
        "colab": {}
      },
      "source": [
        "source_svd = a[:,0] * b[:,0] + a[:,1] * b[:,1] + a[:,2] * b[:,2] + a[:,3] * b[:,3] + a[:,4] * b[:,4] + a[:,5] * b[:,5]\n",
        "destination_svd = c[:,0] * d[:,0] + c[:,1] * d[:,1] + c[:,2] * d[:,2] + c[:,3] * d[:,3] + c[:,4] * d[:,4] + c[:,5] * d[:,5]"
      ],
      "execution_count": 0,
      "outputs": []
    },
    {
      "cell_type": "code",
      "metadata": {
        "colab_type": "code",
        "id": "UK-reylPi-8B",
        "outputId": "e03bd5fe-c2cc-42b2-d4b1-3ae7542c619a",
        "colab": {
          "base_uri": "https://localhost:8080/",
          "height": 34
        }
      },
      "source": [
        "source_svd.shape, destination_svd.shape"
      ],
      "execution_count": 24,
      "outputs": [
        {
          "output_type": "execute_result",
          "data": {
            "text/plain": [
              "((100002,), (100002,))"
            ]
          },
          "metadata": {
            "tags": []
          },
          "execution_count": 24
        }
      ]
    },
    {
      "cell_type": "code",
      "metadata": {
        "colab_type": "code",
        "id": "wUzvzXY1jJnG",
        "outputId": "abade2cf-8dc3-42d9-9ba9-00c111e4fcea",
        "colab": {
          "base_uri": "https://localhost:8080/",
          "height": 34
        }
      },
      "source": [
        "a1 = df_final_test.iloc[:, 30:36].values\n",
        "b1 = df_final_test.iloc[:, 36:42].values\n",
        "c1 = df_final_test.iloc[:, 42:48].values\n",
        "d1 = df_final_test.iloc[:, 48:54].values\n",
        "a1.shape, b1.shape, c1.shape, d1.shape"
      ],
      "execution_count": 20,
      "outputs": [
        {
          "output_type": "execute_result",
          "data": {
            "text/plain": [
              "((50002, 6), (50002, 6), (50002, 6), (50002, 6))"
            ]
          },
          "metadata": {
            "tags": []
          },
          "execution_count": 20
        }
      ]
    },
    {
      "cell_type": "code",
      "metadata": {
        "colab_type": "code",
        "id": "Q4ncUC39jJva",
        "colab": {}
      },
      "source": [
        "source_svd1 = a1[:,0] * b1[:,0] + a1[:,1] * b1[:,1] + a1[:,2] * b1[:,2] + a1[:,3] * b1[:,3] + a1[:,4] * b1[:,4] + a1[:,5] * b1[:,5]\n",
        "destination_svd1 = c1[:,0] * d1[:,0] + c1[:,1] * d1[:,1] + c1[:,2] * d1[:,2] + c1[:,3] * d1[:,3] + c1[:,4] * d1[:,4] + c1[:,5] * d1[:,5]"
      ],
      "execution_count": 0,
      "outputs": []
    },
    {
      "cell_type": "code",
      "metadata": {
        "colab_type": "code",
        "id": "XdIjmYALjJ5f",
        "outputId": "e9cade73-3390-4c4e-d754-c53df077fb96",
        "colab": {
          "base_uri": "https://localhost:8080/",
          "height": 34
        }
      },
      "source": [
        "source_svd1.shape, destination_svd1.shape"
      ],
      "execution_count": 26,
      "outputs": [
        {
          "output_type": "execute_result",
          "data": {
            "text/plain": [
              "((50002,), (50002,))"
            ]
          },
          "metadata": {
            "tags": []
          },
          "execution_count": 26
        }
      ]
    },
    {
      "cell_type": "code",
      "metadata": {
        "id": "GDxyZt3S2cYF",
        "colab_type": "code",
        "colab": {
          "base_uri": "https://localhost:8080/",
          "height": 51
        },
        "outputId": "d9388741-bed2-4ca6-de08-6f10a4787cfa"
      },
      "source": [
        ""
      ],
      "execution_count": 28,
      "outputs": [
        {
          "output_type": "execute_result",
          "data": {
            "text/plain": [
              "array([1.11495785e-11, 3.19281225e-03, 1.78750258e-35, ...,\n",
              "       4.15849064e-22, 4.30096716e-30, 1.02639899e-26])"
            ]
          },
          "metadata": {
            "tags": []
          },
          "execution_count": 28
        }
      ]
    },
    {
      "cell_type": "code",
      "metadata": {
        "colab_type": "code",
        "id": "0BFZlXOWjsh9",
        "colab": {}
      },
      "source": [
        "df_final_train['source_svd'] = source_svd\n",
        "\n",
        "df_final_train['destination_svd'] = destination_svd\n",
        "\n",
        "df_final_test['source_svd'] = source_svd1\n",
        "\n",
        "df_final_test['destination_svd'] = destination_svd1\n"
      ],
      "execution_count": 0,
      "outputs": []
    },
    {
      "cell_type": "code",
      "metadata": {
        "colab_type": "code",
        "id": "_FQMpJS9kutx",
        "colab": {
          "base_uri": "https://localhost:8080/",
          "height": 34
        },
        "outputId": "5fd8bd2f-3e06-45e2-c65b-983b015d3795"
      },
      "source": [
        "hdf = HDFStore('/content/drive/My Drive/Applied AI/Facebook Friend Recommendation using Graph Mining/storage_sample_stage2_1.h5')\n",
        "hdf.put('train_df',df_final_train, format='table', data_columns=True)\n",
        "hdf.put('test_df',df_final_test, format='table', data_columns=True)\n",
        "hdf.close()\n",
        "print('Closed')"
      ],
      "execution_count": 31,
      "outputs": [
        {
          "output_type": "stream",
          "text": [
            "Closed\n"
          ],
          "name": "stdout"
        }
      ]
    },
    {
      "cell_type": "code",
      "metadata": {
        "colab_type": "code",
        "id": "lV06y3XnrzQP",
        "colab": {}
      },
      "source": [
        "y_train = df_final_train.indicator_link\n",
        "y_test = df_final_test.indicator_link\n",
        "df_final_train.drop(['source_node', 'destination_node','indicator_link'],axis=1,inplace=True)\n",
        "df_final_test.drop(['source_node', 'destination_node','indicator_link'],axis=1,inplace=True)\n"
      ],
      "execution_count": 0,
      "outputs": []
    },
    {
      "cell_type": "code",
      "metadata": {
        "colab_type": "code",
        "id": "6YrCiBgylc4W",
        "colab": {}
      },
      "source": [
        ""
      ],
      "execution_count": 0,
      "outputs": []
    },
    {
      "cell_type": "code",
      "metadata": {
        "colab_type": "code",
        "id": "3vywU762nycD",
        "outputId": "7eed8170-cedb-4a49-868f-dd9505185e66",
        "colab": {
          "base_uri": "https://localhost:8080/",
          "height": 459
        }
      },
      "source": [
        "df_final_train.columns, df_final_train.columns"
      ],
      "execution_count": 33,
      "outputs": [
        {
          "output_type": "execute_result",
          "data": {
            "text/plain": [
              "(Index(['jaccard_followers', 'jaccard_followees', 'cosine_followers',\n",
              "        'cosine_followees', 'num_followers_s', 'num_followees_s',\n",
              "        'num_followees_d', 'inter_followers', 'inter_followees', 'adar_index',\n",
              "        'follows_back', 'same_comp', 'shortest_path', 'weight_in', 'weight_out',\n",
              "        'weight_f1', 'weight_f2', 'weight_f3', 'weight_f4', 'page_rank_s',\n",
              "        'page_rank_d', 'katz_s', 'katz_d', 'hubs_s', 'hubs_d', 'authorities_s',\n",
              "        'authorities_d', 'svd_u_s_1', 'svd_u_s_2', 'svd_u_s_3', 'svd_u_s_4',\n",
              "        'svd_u_s_5', 'svd_u_s_6', 'svd_u_d_1', 'svd_u_d_2', 'svd_u_d_3',\n",
              "        'svd_u_d_4', 'svd_u_d_5', 'svd_u_d_6', 'svd_v_s_1', 'svd_v_s_2',\n",
              "        'svd_v_s_3', 'svd_v_s_4', 'svd_v_s_5', 'svd_v_s_6', 'svd_v_d_1',\n",
              "        'svd_v_d_2', 'svd_v_d_3', 'svd_v_d_4', 'svd_v_d_5', 'svd_v_d_6',\n",
              "        'Preferential_Attachment', 'source_svd', 'destination_svd'],\n",
              "       dtype='object'),\n",
              " Index(['jaccard_followers', 'jaccard_followees', 'cosine_followers',\n",
              "        'cosine_followees', 'num_followers_s', 'num_followees_s',\n",
              "        'num_followees_d', 'inter_followers', 'inter_followees', 'adar_index',\n",
              "        'follows_back', 'same_comp', 'shortest_path', 'weight_in', 'weight_out',\n",
              "        'weight_f1', 'weight_f2', 'weight_f3', 'weight_f4', 'page_rank_s',\n",
              "        'page_rank_d', 'katz_s', 'katz_d', 'hubs_s', 'hubs_d', 'authorities_s',\n",
              "        'authorities_d', 'svd_u_s_1', 'svd_u_s_2', 'svd_u_s_3', 'svd_u_s_4',\n",
              "        'svd_u_s_5', 'svd_u_s_6', 'svd_u_d_1', 'svd_u_d_2', 'svd_u_d_3',\n",
              "        'svd_u_d_4', 'svd_u_d_5', 'svd_u_d_6', 'svd_v_s_1', 'svd_v_s_2',\n",
              "        'svd_v_s_3', 'svd_v_s_4', 'svd_v_s_5', 'svd_v_s_6', 'svd_v_d_1',\n",
              "        'svd_v_d_2', 'svd_v_d_3', 'svd_v_d_4', 'svd_v_d_5', 'svd_v_d_6',\n",
              "        'Preferential_Attachment', 'source_svd', 'destination_svd'],\n",
              "       dtype='object'))"
            ]
          },
          "metadata": {
            "tags": []
          },
          "execution_count": 33
        }
      ]
    },
    {
      "cell_type": "code",
      "metadata": {
        "colab_type": "code",
        "id": "0CspbUKooA9a",
        "outputId": "1efa9f85-d19a-4f44-d38e-8f48af947d5a",
        "colab": {
          "base_uri": "https://localhost:8080/",
          "height": 34
        }
      },
      "source": [
        "df_final_train.shape, df_final_test.shape"
      ],
      "execution_count": 35,
      "outputs": [
        {
          "output_type": "execute_result",
          "data": {
            "text/plain": [
              "((100002, 54), (50002, 54))"
            ]
          },
          "metadata": {
            "tags": []
          },
          "execution_count": 35
        }
      ]
    },
    {
      "cell_type": "code",
      "metadata": {
        "colab_type": "code",
        "id": "D51IBF_ZrzS6",
        "outputId": "10cc0be5-2c0a-42c9-bf7a-e7a7b2cd2a34",
        "colab": {
          "base_uri": "https://localhost:8080/",
          "height": 51
        }
      },
      "source": [
        "%%time\n",
        "classifier = XGBClassifier(n_estimators=100, n_jobs=-1)\n",
        "classifier.fit(df_final_train, y_train)"
      ],
      "execution_count": 36,
      "outputs": [
        {
          "output_type": "stream",
          "text": [
            "CPU times: user 42 s, sys: 247 ms, total: 42.3 s\n",
            "Wall time: 21.9 s\n"
          ],
          "name": "stdout"
        }
      ]
    },
    {
      "cell_type": "code",
      "metadata": {
        "colab_type": "code",
        "id": "tV3WwkmzrzV7",
        "outputId": "d719c6cc-0fbe-47ea-96cb-f6aa252815c7",
        "colab": {
          "base_uri": "https://localhost:8080/",
          "height": 51
        }
      },
      "source": [
        "y_train_pred = classifier.predict(df_final_train)\n",
        "y_test_pred = classifier.predict(df_final_test)\n",
        "\n",
        "from sklearn.metrics import f1_score\n",
        "print('Train f1 score',f1_score(y_train,y_train_pred))\n",
        "print('Test f1 score',f1_score(y_test,y_test_pred))"
      ],
      "execution_count": 37,
      "outputs": [
        {
          "output_type": "stream",
          "text": [
            "Train f1 score 0.9805717737064626\n",
            "Test f1 score 0.9346523793452582\n"
          ],
          "name": "stdout"
        }
      ]
    },
    {
      "cell_type": "code",
      "metadata": {
        "colab_type": "code",
        "id": "nNNYjAtfWHiG",
        "colab": {}
      },
      "source": [
        "import pickle\n",
        "pickle.dump(classifier, open(\"/content/drive/My Drive/Applied AI/Facebook Friend Recommendation using Graph Mining/xgb_clf1_1.pickle.dat\", \"wb\"))\n"
      ],
      "execution_count": 0,
      "outputs": []
    },
    {
      "cell_type": "code",
      "metadata": {
        "colab_type": "code",
        "id": "kVtQjzjuXC_8",
        "colab": {}
      },
      "source": [
        "\n",
        "from sklearn.metrics import confusion_matrix\n",
        "def plot_confusion_matrix(test_y, predict_y):\n",
        "    C = confusion_matrix(test_y, predict_y)\n",
        "    \n",
        "    A =(((C.T)/(C.sum(axis=1))).T)\n",
        "    \n",
        "    B =(C/C.sum(axis=0))\n",
        "    plt.figure(figsize=(20,4))\n",
        "    \n",
        "    labels = [0,1]\n",
        "    # representing A in heatmap format\n",
        "    cmap=sns.light_palette(\"blue\")\n",
        "    plt.subplot(1, 3, 1)\n",
        "    sns.heatmap(C, annot=True, cmap=cmap, fmt=\".3f\", xticklabels=labels, yticklabels=labels)\n",
        "    plt.xlabel('Predicted Class')\n",
        "    plt.ylabel('Original Class')\n",
        "    plt.title(\"Confusion matrix\")\n",
        "    \n",
        "    plt.subplot(1, 3, 2)\n",
        "    sns.heatmap(B, annot=True, cmap=cmap, fmt=\".3f\", xticklabels=labels, yticklabels=labels)\n",
        "    plt.xlabel('Predicted Class')\n",
        "    plt.ylabel('Original Class')\n",
        "    plt.title(\"Precision matrix\")\n",
        "    \n",
        "    plt.subplot(1, 3, 3)\n",
        "    # representing B in heatmap format\n",
        "    sns.heatmap(A, annot=True, cmap=cmap, fmt=\".3f\", xticklabels=labels, yticklabels=labels)\n",
        "    plt.xlabel('Predicted Class')\n",
        "    plt.ylabel('Original Class')\n",
        "    plt.title(\"Recall matrix\")\n",
        "    \n",
        "    plt.show()\n"
      ],
      "execution_count": 0,
      "outputs": []
    },
    {
      "cell_type": "code",
      "metadata": {
        "colab_type": "code",
        "id": "Q9DOSe3MXDFb",
        "outputId": "04c918d5-8124-443d-c5ce-6adfe6a42342",
        "colab": {
          "base_uri": "https://localhost:8080/",
          "height": 607
        }
      },
      "source": [
        "print('Train confusion_matrix')\n",
        "plot_confusion_matrix(y_train,y_train_pred)\n",
        "print('Test confusion_matrix')\n",
        "plot_confusion_matrix(y_test,y_test_pred)\n"
      ],
      "execution_count": 40,
      "outputs": [
        {
          "output_type": "stream",
          "text": [
            "Train confusion_matrix\n"
          ],
          "name": "stdout"
        },
        {
          "output_type": "display_data",
          "data": {
            "image/png": "[encoded data removed]",
            "text/plain": [
              "<Figure size 1440x288 with 6 Axes>"
            ]
          },
          "metadata": {
            "tags": []
          }
        },
        {
          "output_type": "stream",
          "text": [
            "Test confusion_matrix\n"
          ],
          "name": "stdout"
        },
        {
          "output_type": "display_data",
          "data": {
            "image/png": "[encoded data removed]",
            "text/plain": [
              "<Figure size 1440x288 with 6 Axes>"
            ]
          },
          "metadata": {
            "tags": []
          }
        }
      ]
    },
    {
      "cell_type": "code",
      "metadata": {
        "colab_type": "code",
        "id": "eISDGacNXDJd",
        "outputId": "7e0e385b-4881-43b6-8ca2-bd3bd4cb96c7",
        "colab": {
          "base_uri": "https://localhost:8080/",
          "height": 1008
        }
      },
      "source": [
        "from sklearn.metrics import roc_curve, auc\n",
        "fpr,tpr,ths = roc_curve(y_test,y_test_pred)\n",
        "auc_sc = auc(fpr, tpr)\n",
        "plt.plot(fpr, tpr, color='navy',label='ROC curve (area = %0.2f)' % auc_sc)\n",
        "plt.xlabel('False Positive Rate')\n",
        "plt.ylabel('True Positive Rate')\n",
        "plt.title('Receiver operating characteristic with test data')\n",
        "plt.legend()\n",
        "plt.show()\n",
        "\n",
        "features = df_final_train.columns\n",
        "importances = classifier.feature_importances_\n",
        "indices = (np.argsort(importances))[-25:]\n",
        "plt.figure(figsize=(10,12))\n",
        "plt.title('Feature Importances')\n",
        "plt.barh(range(len(indices)), importances[indices], color='r', align='center')\n",
        "plt.yticks(range(len(indices)), [features[i] for i in indices])\n",
        "plt.xlabel('Relative Importance')\n",
        "plt.show()"
      ],
      "execution_count": 41,
      "outputs": [
        {
          "output_type": "display_data",
          "data": {
            "image/png": "[encoded data removed]",
            "text/plain": [
              "<Figure size 432x288 with 1 Axes>"
            ]
          },
          "metadata": {
            "tags": []
          }
        },
        {
          "output_type": "display_data",
          "data": {
            "image/png": "[encoded data removed]",
            "text/plain": [
              "<Figure size 720x864 with 1 Axes>"
            ]
          },
          "metadata": {
            "tags": []
          }
        }
      ]
    },
    {
      "cell_type": "markdown",
      "metadata": {
        "id": "HNsZoq-f4O9c",
        "colab_type": "text"
      },
      "source": [
        "## As we can see in the feature importance plot, all the three new features have contributed towards making model better."
      ]
    },
    {
      "cell_type": "code",
      "metadata": {
        "colab_type": "code",
        "id": "9utb5vaqXDO0",
        "outputId": "44966773-d52d-4e5d-a08b-d3e2e8e181c8",
        "colab": {
          "base_uri": "https://localhost:8080/",
          "height": 34
        }
      },
      "source": [
        "y_train.nunique()"
      ],
      "execution_count": 0,
      "outputs": [
        {
          "output_type": "execute_result",
          "data": {
            "text/plain": [
              "2"
            ]
          },
          "metadata": {
            "tags": []
          },
          "execution_count": 19
        }
      ]
    },
    {
      "cell_type": "markdown",
      "metadata": {
        "colab_type": "text",
        "id": "UFzdv-8zzoTF"
      },
      "source": [
        "# help taken from : https://www.analyticsvidhya.com/blog/2016/03/complete-guide-parameter-tuning-xgboost-with-codes-python/"
      ]
    },
    {
      "cell_type": "code",
      "metadata": {
        "colab_type": "code",
        "id": "bd2EfNwvWtIo",
        "colab": {}
      },
      "source": [
        "import xgboost as xgb\n",
        "from sklearn import metrics   #Additional scklearn functions\n",
        "#from sklearn.grid_search import GridSearchCV   #Perforing grid search\n",
        "from sklearn.model_selection import cross_validate, learning_curve, GridSearchCV\n",
        "import matplotlib.pylab as plt\n",
        "%matplotlib inline\n",
        "from matplotlib.pylab import rcParams\n",
        "rcParams['figure.figsize'] = 12, 4"
      ],
      "execution_count": 0,
      "outputs": []
    },
    {
      "cell_type": "code",
      "metadata": {
        "colab_type": "code",
        "id": "0XB31ICDcPp0",
        "colab": {}
      },
      "source": [
        "def modelfit(alg, dtrain, y_train,useTrainCV=True, cv_folds=5, early_stopping_rounds=50):\n",
        "    \n",
        "    if useTrainCV:\n",
        "        xgb_param = alg.get_xgb_params()\n",
        "        xgtrain = xgb.DMatrix(dtrain.values, label=y_train.values)\n",
        "        cvresult = xgb.cv(xgb_param, xgtrain, num_boost_round=alg.get_params()['n_estimators'], nfold=cv_folds,\n",
        "            metrics='auc', early_stopping_rounds=early_stopping_rounds)\n",
        "        alg.set_params(n_estimators=cvresult.shape[0])\n",
        "    \n",
        "    #Fit the algorithm on the data\n",
        "    alg.fit(dtrain, y_train, eval_metric='auc')\n",
        "        \n",
        "    #Predict training set:\n",
        "    dtrain_predictions = alg.predict(dtrain)\n",
        "    dtrain_predprob = alg.predict_proba(dtrain)[:,1]\n",
        "        \n",
        "    #Print model report:\n",
        "    print(\"\\nModel Report\")\n",
        "    print(\"Accuracy : %.4g\" % metrics.accuracy_score(y_train.values, dtrain_predictions))\n",
        "    print(\"AUC Score (Train): %f\" % metrics.roc_auc_score(y_train, dtrain_predprob))\n",
        "                    \n",
        "    #feat_imp = pd.Series(alg.booster().get_fscore()).sort_values(ascending=False)\n",
        "    #feat_imp.plot(kind='bar', title='Feature Importances')\n",
        "    #plt.ylabel('Feature Importance Score')\n",
        "    \n",
        "    features = dtrain.columns\n",
        "    importances = alg.feature_importances_\n",
        "    indices = (np.argsort(importances))[-25:]\n",
        "    plt.figure(figsize=(10,12))\n",
        "    plt.title('Feature Importances')\n",
        "    plt.barh(range(len(indices)), importances[indices], color='r', align='center')\n",
        "    plt.yticks(range(len(indices)), [features[i] for i in indices])\n",
        "    plt.xlabel('Relative Importance')\n",
        "    plt.show()\n"
      ],
      "execution_count": 0,
      "outputs": []
    },
    {
      "cell_type": "code",
      "metadata": {
        "colab_type": "code",
        "id": "EH3e4rBQcPsj",
        "outputId": "91e85c6d-cd10-4a97-9945-bdfd0c9634fd",
        "colab": {
          "base_uri": "https://localhost:8080/",
          "height": 832
        }
      },
      "source": [
        "%%time\n",
        "xgb1 = XGBClassifier(\n",
        " learning_rate =0.1,\n",
        " n_estimators=1000,\n",
        " max_depth=5,\n",
        " min_child_weight=1,\n",
        " gamma=0,\n",
        " subsample=0.8,\n",
        " colsample_bytree=0.8,\n",
        " objective= 'binary:logistic',\n",
        " nthread=4,\n",
        " scale_pos_weight=1,\n",
        " seed=27)\n",
        "\n",
        "\n",
        "modelfit(xgb1, df_final_train, y_train)"
      ],
      "execution_count": 44,
      "outputs": [
        {
          "output_type": "stream",
          "text": [
            "\n",
            "Model Report\n",
            "Accuracy : 1\n",
            "AUC Score (Train): 1.000000\n"
          ],
          "name": "stdout"
        },
        {
          "output_type": "display_data",
          "data": {
            "image/png": "[encoded data removed]",
            "text/plain": [
              "<Figure size 720x864 with 1 Axes>"
            ]
          },
          "metadata": {
            "tags": []
          }
        },
        {
          "output_type": "stream",
          "text": [
            "CPU times: user 33min 27s, sys: 7.93 s, total: 33min 35s\n",
            "Wall time: 17min 31s\n"
          ],
          "name": "stdout"
        }
      ]
    },
    {
      "cell_type": "markdown",
      "metadata": {
        "colab_type": "text",
        "id": "J5uoIPlNjsuB"
      },
      "source": [
        "# Tune max_depth and min_child_weight"
      ]
    },
    {
      "cell_type": "code",
      "metadata": {
        "colab_type": "code",
        "id": "XIC_LRiS9MyM",
        "colab": {}
      },
      "source": [
        "from sklearn.model_selection import GridSearchCV"
      ],
      "execution_count": 0,
      "outputs": []
    },
    {
      "cell_type": "code",
      "metadata": {
        "colab_type": "code",
        "id": "H-cnNEWlikQw",
        "outputId": "2b14c4fb-1d8b-4025-d411-829557dcd726",
        "colab": {
          "base_uri": "https://localhost:8080/",
          "height": 289
        }
      },
      "source": [
        "param_test1 = {\n",
        " 'max_depth':range(3,10,2),\n",
        " 'min_child_weight':range(1,6,2)\n",
        "}\n",
        "\n",
        "gsearch1 = GridSearchCV(estimator = XGBClassifier( learning_rate =0.1, n_estimators=140, max_depth=5,\n",
        " min_child_weight=1, gamma=0, subsample=0.8, colsample_bytree=0.8,\n",
        " objective= 'binary:logistic', nthread=4, scale_pos_weight=1, seed=27), \n",
        " param_grid = param_test1, scoring='roc_auc',n_jobs=4,iid=False, cv=5)\n",
        "\n",
        "gsearch1.fit(df_final_train, y_train)\n",
        "\n"
      ],
      "execution_count": 46,
      "outputs": [
        {
          "output_type": "execute_result",
          "data": {
            "text/plain": [
              "GridSearchCV(cv=5, error_score='raise-deprecating',\n",
              "             estimator=XGBClassifier(base_score=0.5, booster='gbtree',\n",
              "                                     colsample_bylevel=1, colsample_bynode=1,\n",
              "                                     colsample_bytree=0.8, gamma=0,\n",
              "                                     learning_rate=0.1, max_delta_step=0,\n",
              "                                     max_depth=5, min_child_weight=1,\n",
              "                                     missing=None, n_estimators=140, n_jobs=1,\n",
              "                                     nthread=4, objective='binary:logistic',\n",
              "                                     random_state=0, reg_alpha=0, reg_lambda=1,\n",
              "                                     scale_pos_weight=1, seed=27, silent=None,\n",
              "                                     subsample=0.8, verbosity=1),\n",
              "             iid=False, n_jobs=4,\n",
              "             param_grid={'max_depth': range(3, 10, 2),\n",
              "                         'min_child_weight': range(1, 6, 2)},\n",
              "             pre_dispatch='2*n_jobs', refit=True, return_train_score=False,\n",
              "             scoring='roc_auc', verbose=0)"
            ]
          },
          "metadata": {
            "tags": []
          },
          "execution_count": 46
        }
      ]
    },
    {
      "cell_type": "code",
      "metadata": {
        "colab_type": "code",
        "id": "eEylxKrqKD9e",
        "outputId": "a0505585-9155-47f9-9dc7-558bca67e0c5",
        "colab": {
          "base_uri": "https://localhost:8080/",
          "height": 1003
        }
      },
      "source": [
        "gsearch1.cv_results_, gsearch1.best_params_, gsearch1.best_score_"
      ],
      "execution_count": 47,
      "outputs": [
        {
          "output_type": "execute_result",
          "data": {
            "text/plain": [
              "({'mean_fit_time': array([ 78.11917973,  78.24434996,  78.01218753, 122.07253237,\n",
              "         122.17546806, 121.70129538, 168.78372078, 164.98793001,\n",
              "         160.14246216, 213.56231709, 205.08777828, 179.38673625]),\n",
              "  'mean_score_time': array([0.26178703, 0.22517505, 0.29801173, 0.39543762, 0.44642992,\n",
              "         0.37241273, 0.53119764, 0.53018808, 0.5127728 , 0.59734001,\n",
              "         0.62823038, 0.39192743]),\n",
              "  'mean_test_score': array([0.99855148, 0.99853648, 0.99853059, 0.99906371, 0.99903838,\n",
              "         0.9990563 , 0.99925931, 0.9992442 , 0.99922135, 0.99932226,\n",
              "         0.99931352, 0.99930836]),\n",
              "  'param_max_depth': masked_array(data=[3, 3, 3, 5, 5, 5, 7, 7, 7, 9, 9, 9],\n",
              "               mask=[False, False, False, False, False, False, False, False,\n",
              "                     False, False, False, False],\n",
              "         fill_value='?',\n",
              "              dtype=object),\n",
              "  'param_min_child_weight': masked_array(data=[1, 3, 5, 1, 3, 5, 1, 3, 5, 1, 3, 5],\n",
              "               mask=[False, False, False, False, False, False, False, False,\n",
              "                     False, False, False, False],\n",
              "         fill_value='?',\n",
              "              dtype=object),\n",
              "  'params': [{'max_depth': 3, 'min_child_weight': 1},\n",
              "   {'max_depth': 3, 'min_child_weight': 3},\n",
              "   {'max_depth': 3, 'min_child_weight': 5},\n",
              "   {'max_depth': 5, 'min_child_weight': 1},\n",
              "   {'max_depth': 5, 'min_child_weight': 3},\n",
              "   {'max_depth': 5, 'min_child_weight': 5},\n",
              "   {'max_depth': 7, 'min_child_weight': 1},\n",
              "   {'max_depth': 7, 'min_child_weight': 3},\n",
              "   {'max_depth': 7, 'min_child_weight': 5},\n",
              "   {'max_depth': 9, 'min_child_weight': 1},\n",
              "   {'max_depth': 9, 'min_child_weight': 3},\n",
              "   {'max_depth': 9, 'min_child_weight': 5}],\n",
              "  'rank_test_score': array([10, 11, 12,  7,  9,  8,  4,  5,  6,  1,  2,  3], dtype=int32),\n",
              "  'split0_test_score': array([0.99864514, 0.99863846, 0.99864841, 0.99914172, 0.99910254,\n",
              "         0.99911367, 0.99930525, 0.99927573, 0.9992711 , 0.99935094,\n",
              "         0.9993363 , 0.99932093]),\n",
              "  'split1_test_score': array([0.9988088 , 0.99882016, 0.99877942, 0.99924064, 0.99921288,\n",
              "         0.99924906, 0.99940369, 0.99940886, 0.99933718, 0.99944021,\n",
              "         0.99941522, 0.99941484]),\n",
              "  'split2_test_score': array([0.9984837 , 0.99843969, 0.99846089, 0.99903045, 0.99899689,\n",
              "         0.99901351, 0.99922895, 0.99921043, 0.99920902, 0.99930646,\n",
              "         0.99932285, 0.99930155]),\n",
              "  'split3_test_score': array([0.99844416, 0.99842956, 0.9984161 , 0.99898016, 0.99895851,\n",
              "         0.99899993, 0.99921733, 0.99918373, 0.99919201, 0.99930477,\n",
              "         0.99929103, 0.9992748 ]),\n",
              "  'split4_test_score': array([0.99837558, 0.9983545 , 0.99834811, 0.99892559, 0.99892106,\n",
              "         0.99890534, 0.99914135, 0.99914224, 0.99909742, 0.99920893,\n",
              "         0.99920223, 0.9992297 ]),\n",
              "  'std_fit_time': array([ 0.48422725,  0.1625984 ,  0.40179768,  2.75269367,  1.31805349,\n",
              "          0.73628841,  0.61944183,  1.06496432,  0.81184792,  1.81713453,\n",
              "          0.91806977, 23.587469  ]),\n",
              "  'std_score_time': array([0.07776532, 0.04217643, 0.07567155, 0.11162964, 0.03709273,\n",
              "         0.05776168, 0.029362  , 0.02532013, 0.07761377, 0.03346452,\n",
              "         0.05648718, 0.17692334]),\n",
              "  'std_test_score': array([1.56230616e-04, 1.70170854e-04, 1.59413291e-04, 1.13624478e-04,\n",
              "         1.06236180e-04, 1.16830817e-04, 8.89433837e-05, 9.30590177e-05,\n",
              "         8.03276717e-05, 7.50111726e-05, 6.90502992e-05, 6.14096472e-05])},\n",
              " {'max_depth': 9, 'min_child_weight': 1},\n",
              " 0.9993222615234426)"
            ]
          },
          "metadata": {
            "tags": []
          },
          "execution_count": 47
        }
      ]
    },
    {
      "cell_type": "code",
      "metadata": {
        "colab_type": "code",
        "id": "5Ux7FE0XikUM",
        "outputId": "e994dd8c-e305-4b61-e0bf-9dad213d0ae2",
        "colab": {
          "base_uri": "https://localhost:8080/",
          "height": 1054
        }
      },
      "source": [
        "param_test2 = {\n",
        " 'max_depth':[4,5,6],\n",
        " 'min_child_weight':[4,5,6]\n",
        "}\n",
        "gsearch2 = GridSearchCV(estimator = XGBClassifier( learning_rate=0.1, n_estimators=140, max_depth=5,\n",
        " min_child_weight=2, gamma=0, subsample=0.8, colsample_bytree=0.8,\n",
        " objective= 'binary:logistic', nthread=4, scale_pos_weight=1,seed=27), \n",
        " param_grid = param_test2, scoring='roc_auc',n_jobs=4,iid=False, cv=5)\n",
        "gsearch2.fit(df_final_train, y_train)\n",
        "\n",
        "gsearch2.cv_results_, gsearch2.best_params_, gsearch2.best_score_\n"
      ],
      "execution_count": 0,
      "outputs": [
        {
          "output_type": "execute_result",
          "data": {
            "text/plain": [
              "({'mean_fit_time': array([132.17170801, 128.58268175, 128.38554282, 153.39666319,\n",
              "         156.23309836, 155.220784  , 181.40936341, 177.21912193,\n",
              "         151.63105059]),\n",
              "  'mean_score_time': array([0.40266252, 0.38275852, 0.35170074, 0.4420753 , 0.48212695,\n",
              "         0.48885832, 0.53133035, 0.49037905, 0.35004964]),\n",
              "  'mean_test_score': array([0.99886156, 0.99883996, 0.99884696, 0.99904471, 0.99902933,\n",
              "         0.99903116, 0.99915218, 0.99913814, 0.99912669]),\n",
              "  'mean_train_score': array([0.99908931, 0.99906778, 0.99907103, 0.99937409, 0.9993635 ,\n",
              "         0.99936144, 0.99959044, 0.99958034, 0.99955722]),\n",
              "  'param_max_depth': masked_array(data=[4, 4, 4, 5, 5, 5, 6, 6, 6],\n",
              "               mask=[False, False, False, False, False, False, False, False,\n",
              "                     False],\n",
              "         fill_value='?',\n",
              "              dtype=object),\n",
              "  'param_min_child_weight': masked_array(data=[4, 5, 6, 4, 5, 6, 4, 5, 6],\n",
              "               mask=[False, False, False, False, False, False, False, False,\n",
              "                     False],\n",
              "         fill_value='?',\n",
              "              dtype=object),\n",
              "  'params': [{'max_depth': 4, 'min_child_weight': 4},\n",
              "   {'max_depth': 4, 'min_child_weight': 5},\n",
              "   {'max_depth': 4, 'min_child_weight': 6},\n",
              "   {'max_depth': 5, 'min_child_weight': 4},\n",
              "   {'max_depth': 5, 'min_child_weight': 5},\n",
              "   {'max_depth': 5, 'min_child_weight': 6},\n",
              "   {'max_depth': 6, 'min_child_weight': 4},\n",
              "   {'max_depth': 6, 'min_child_weight': 5},\n",
              "   {'max_depth': 6, 'min_child_weight': 6}],\n",
              "  'rank_test_score': array([7, 9, 8, 4, 6, 5, 1, 2, 3], dtype=int32),\n",
              "  'split0_test_score': array([0.9989343 , 0.99893743, 0.99894329, 0.99910625, 0.99908828,\n",
              "         0.99910268, 0.99922368, 0.9991973 , 0.99920346]),\n",
              "  'split0_train_score': array([0.99907324, 0.99905667, 0.99906489, 0.99934801, 0.99934083,\n",
              "         0.99935872, 0.99959537, 0.99957187, 0.99955141]),\n",
              "  'split1_test_score': array([0.99905821, 0.99902552, 0.99903194, 0.99920764, 0.99916333,\n",
              "         0.99921712, 0.99929527, 0.99927288, 0.99924394]),\n",
              "  'split1_train_score': array([0.99905151, 0.9990345 , 0.99903809, 0.99938583, 0.99934934,\n",
              "         0.99937672, 0.99958637, 0.99957577, 0.9995491 ]),\n",
              "  'split2_test_score': array([0.99885705, 0.99882746, 0.99880076, 0.99904923, 0.99902464,\n",
              "         0.99903195, 0.99916015, 0.99912932, 0.99913764]),\n",
              "  'split2_train_score': array([0.99911705, 0.99908315, 0.99907537, 0.99938691, 0.99937219,\n",
              "         0.99935874, 0.99958093, 0.99956716, 0.99955571]),\n",
              "  'split3_test_score': array([0.99879769, 0.99876647, 0.99878506, 0.99898444, 0.99899379,\n",
              "         0.99895635, 0.99911454, 0.99909239, 0.99907234]),\n",
              "  'split3_train_score': array([0.9990852 , 0.99907855, 0.99906176, 0.99936206, 0.99935774,\n",
              "         0.99933347, 0.99959239, 0.99958294, 0.99955573]),\n",
              "  'split4_test_score': array([0.99866055, 0.99864293, 0.99867374, 0.99887601, 0.99887663,\n",
              "         0.99884773, 0.99896725, 0.99899882, 0.99897605]),\n",
              "  'split4_train_score': array([0.99911955, 0.99908602, 0.99911502, 0.99938766, 0.99939738,\n",
              "         0.99937957, 0.99959714, 0.99960397, 0.99957416]),\n",
              "  'std_fit_time': array([ 1.69818077,  0.68925279,  0.49873188,  4.98639233,  2.62150355,\n",
              "          1.64106131,  0.33246219,  4.5382599 , 44.7496789 ]),\n",
              "  'std_score_time': array([0.09862095, 0.06850911, 0.06826039, 0.05159192, 0.05737752,\n",
              "         0.07822208, 0.09009542, 0.10869337, 0.15565396]),\n",
              "  'std_test_score': array([1.33017624e-04, 1.32897948e-04, 1.26070150e-04, 1.11754898e-04,\n",
              "         9.59528282e-05, 1.25649896e-04, 1.10694484e-04, 9.29909337e-05,\n",
              "         9.52982814e-05]),\n",
              "  'std_train_score': array([2.60310244e-05, 1.95770516e-05, 2.51505719e-05, 1.61940400e-05,\n",
              "         1.98530798e-05, 1.64881139e-05, 6.00003403e-06, 1.28941862e-05,\n",
              "         8.84650603e-06])},\n",
              " {'max_depth': 6, 'min_child_weight': 4},\n",
              " 0.9991521768028624)"
            ]
          },
          "metadata": {
            "tags": []
          },
          "execution_count": 41
        }
      ]
    },
    {
      "cell_type": "code",
      "metadata": {
        "colab_type": "code",
        "id": "56LC6_lZikW9",
        "outputId": "6f037a61-93a2-423d-d204-4f62dffcbd7b",
        "colab": {
          "base_uri": "https://localhost:8080/",
          "height": 204
        }
      },
      "source": [
        "param_test2b = {\n",
        " 'min_child_weight':[6,8,10,12]\n",
        "}\n",
        "gsearch2b = GridSearchCV(estimator = XGBClassifier( learning_rate=0.1, n_estimators=140, max_depth=4,\n",
        " min_child_weight=2, gamma=0, subsample=0.8, colsample_bytree=0.8,\n",
        " objective= 'binary:logistic', nthread=4, scale_pos_weight=1,seed=27), \n",
        " param_grid = param_test2b, scoring='roc_auc',n_jobs=4,iid=False, cv=5)\n",
        "gsearch2b.fit(df_final_train, y_train)"
      ],
      "execution_count": 0,
      "outputs": [
        {
          "output_type": "execute_result",
          "data": {
            "text/plain": [
              "GridSearchCV(cv=5, error_score='raise-deprecating',\n",
              "       estimator=XGBClassifier(base_score=0.5, booster='gbtree', colsample_bylevel=1,\n",
              "       colsample_bytree=0.8, gamma=0, learning_rate=0.1, max_delta_step=0,\n",
              "       max_depth=4, min_child_weight=2, missing=None, n_estimators=140,\n",
              "       n_jobs=1, nthread=4, objective='binary:logistic', random_state=0,\n",
              "       reg_alpha=0, reg_lambda=1, scale_pos_weight=1, seed=27, silent=True,\n",
              "       subsample=0.8),\n",
              "       fit_params=None, iid=False, n_jobs=4,\n",
              "       param_grid={'min_child_weight': [6, 8, 10, 12]},\n",
              "       pre_dispatch='2*n_jobs', refit=True, return_train_score='warn',\n",
              "       scoring='roc_auc', verbose=0)"
            ]
          },
          "metadata": {
            "tags": []
          },
          "execution_count": 43
        }
      ]
    },
    {
      "cell_type": "code",
      "metadata": {
        "colab_type": "code",
        "id": "optI6A-7K8F4",
        "outputId": "2aa530eb-5f29-400e-9002-074f703e8854",
        "colab": {
          "base_uri": "https://localhost:8080/",
          "height": 832
        }
      },
      "source": [
        "%%time\n",
        "modelfit(gsearch2b.best_estimator_, df_final_train, y_train)\n",
        "#gsearch2b.grid_scores_, gsearch2b.best_params_, gsearch2b.best_score_\n",
        "gsearch2b.cv_results_, gsearch2b.best_params_, gsearch2b.best_score_"
      ],
      "execution_count": 0,
      "outputs": [
        {
          "output_type": "stream",
          "text": [
            "\n",
            "Model Report\n",
            "Accuracy : 0.9848\n",
            "AUC Score (Train): 0.999014\n"
          ],
          "name": "stdout"
        },
        {
          "output_type": "display_data",
          "data": {
            "image/png": "[encoded data removed]",
            "text/plain": [
              "<Figure size 720x864 with 1 Axes>"
            ]
          },
          "metadata": {
            "tags": []
          }
        },
        {
          "output_type": "stream",
          "text": [
            "CPU times: user 6min 12s, sys: 1.63 s, total: 6min 14s\n",
            "Wall time: 3min 16s\n"
          ],
          "name": "stdout"
        }
      ]
    },
    {
      "cell_type": "code",
      "metadata": {
        "colab_type": "code",
        "id": "TlhdtSKMYj1f",
        "outputId": "7a95675d-f82a-4257-a842-5738650451fa",
        "colab": {
          "base_uri": "https://localhost:8080/",
          "height": 510
        }
      },
      "source": [
        "gsearch2b.cv_results_, gsearch2b.best_params_, gsearch2b.best_score_"
      ],
      "execution_count": 0,
      "outputs": [
        {
          "output_type": "execute_result",
          "data": {
            "text/plain": [
              "({'mean_fit_time': array([131.51208415, 130.46986051, 130.87118387, 128.86180048]),\n",
              "  'mean_score_time': array([0.41816707, 0.37426553, 0.35495749, 0.41335459]),\n",
              "  'mean_test_score': array([0.99884696, 0.99886011, 0.99885412, 0.99884259]),\n",
              "  'mean_train_score': array([0.99907103, 0.99907039, 0.99906765, 0.99905918]),\n",
              "  'param_min_child_weight': masked_array(data=[6, 8, 10, 12],\n",
              "               mask=[False, False, False, False],\n",
              "         fill_value='?',\n",
              "              dtype=object),\n",
              "  'params': [{'min_child_weight': 6},\n",
              "   {'min_child_weight': 8},\n",
              "   {'min_child_weight': 10},\n",
              "   {'min_child_weight': 12}],\n",
              "  'rank_test_score': array([3, 1, 2, 4], dtype=int32),\n",
              "  'split0_test_score': array([0.99894329, 0.99893759, 0.99892578, 0.99892393]),\n",
              "  'split0_train_score': array([0.99906489, 0.99904999, 0.99903721, 0.99904378]),\n",
              "  'split1_test_score': array([0.99903194, 0.99899902, 0.99899283, 0.99902819]),\n",
              "  'split1_train_score': array([0.99903809, 0.99899876, 0.99899907, 0.99903131]),\n",
              "  'split2_test_score': array([0.99880076, 0.99883751, 0.9988272 , 0.99877901]),\n",
              "  'split2_train_score': array([0.99907537, 0.99908515, 0.99908112, 0.99905168]),\n",
              "  'split3_test_score': array([0.99878506, 0.99881993, 0.99884298, 0.99880536]),\n",
              "  'split3_train_score': array([0.99906176, 0.99909948, 0.99911222, 0.99905827]),\n",
              "  'split4_test_score': array([0.99867374, 0.99870651, 0.99868183, 0.99867647]),\n",
              "  'split4_train_score': array([0.99911502, 0.99911854, 0.99910861, 0.99911088]),\n",
              "  'std_fit_time': array([1.26183334, 0.36938014, 0.57490437, 0.97556848]),\n",
              "  'std_score_time': array([0.08163092, 0.08709775, 0.11481737, 0.08210818]),\n",
              "  'std_test_score': array([0.00012607, 0.00010101, 0.00010479, 0.00012173]),\n",
              "  'std_train_score': array([2.51505719e-05, 4.22617331e-05, 4.35331487e-05, 2.73621270e-05])},\n",
              " {'min_child_weight': 8},\n",
              " 0.9988601101692882)"
            ]
          },
          "metadata": {
            "tags": []
          },
          "execution_count": 46
        }
      ]
    },
    {
      "cell_type": "markdown",
      "metadata": {
        "colab_type": "text",
        "id": "xnXzCn99kDTg"
      },
      "source": [
        "# Tune gamma"
      ]
    },
    {
      "cell_type": "code",
      "metadata": {
        "colab_type": "code",
        "id": "xvATPgzYcPvq",
        "outputId": "11d28b2a-d769-4b92-c1b8-9828560b7ec5",
        "colab": {
          "base_uri": "https://localhost:8080/",
          "height": 51
        }
      },
      "source": [
        "%%time\n",
        "param_test3 = {\n",
        " 'gamma':[i/10.0 for i in range(0,5)]\n",
        "}\n",
        "gsearch3 = GridSearchCV(estimator = XGBClassifier( learning_rate =0.1, n_estimators=140, max_depth=9,\n",
        " min_child_weight=8, gamma=0, subsample=0.8, colsample_bytree=0.8,\n",
        " objective= 'binary:logistic', nthread=4, scale_pos_weight=1,seed=27), \n",
        " param_grid = param_test3, scoring='roc_auc',n_jobs=4,iid=False, cv=5)\n",
        "gsearch3.fit(df_final_train, y_train)\n",
        "gsearch3.cv_results_, gsearch3.best_params_, gsearch3.best_score_"
      ],
      "execution_count": 0,
      "outputs": [
        {
          "output_type": "stream",
          "text": [
            "CPU times: user 2min 13s, sys: 967 ms, total: 2min 14s\n",
            "Wall time: 27min 45s\n"
          ],
          "name": "stdout"
        }
      ]
    },
    {
      "cell_type": "code",
      "metadata": {
        "colab_type": "code",
        "id": "HHVJTtuXfqzU",
        "outputId": "03a65577-f0f5-4b12-fdc7-d61cb151271d",
        "colab": {
          "base_uri": "https://localhost:8080/",
          "height": 578
        }
      },
      "source": [
        "gsearch3.cv_results_, gsearch3.best_params_, gsearch3.best_score_"
      ],
      "execution_count": 0,
      "outputs": [
        {
          "output_type": "execute_result",
          "data": {
            "text/plain": [
              "({'mean_fit_time': array([255.51364703, 251.17548695, 251.00310431, 251.48400154,\n",
              "         214.45768657]),\n",
              "  'mean_score_time': array([0.53122215, 0.50875921, 0.6110631 , 0.57809711, 0.49489088]),\n",
              "  'mean_test_score': array([0.99927462, 0.99927044, 0.99926602, 0.99928731, 0.99928397]),\n",
              "  'mean_train_score': array([0.99988942, 0.99988746, 0.99988803, 0.99989316, 0.99988452]),\n",
              "  'param_gamma': masked_array(data=[0.0, 0.1, 0.2, 0.3, 0.4],\n",
              "               mask=[False, False, False, False, False],\n",
              "         fill_value='?',\n",
              "              dtype=object),\n",
              "  'params': [{'gamma': 0.0},\n",
              "   {'gamma': 0.1},\n",
              "   {'gamma': 0.2},\n",
              "   {'gamma': 0.3},\n",
              "   {'gamma': 0.4}],\n",
              "  'rank_test_score': array([3, 4, 5, 1, 2], dtype=int32),\n",
              "  'split0_test_score': array([0.99931465, 0.99928211, 0.99931602, 0.99933217, 0.9993278 ]),\n",
              "  'split0_train_score': array([0.99988839, 0.99988493, 0.99988854, 0.99989027, 0.99988113]),\n",
              "  'split1_test_score': array([0.99936423, 0.99939845, 0.99938982, 0.99940371, 0.99939474]),\n",
              "  'split1_train_score': array([0.99988778, 0.99989088, 0.9998891 , 0.99989047, 0.99989215]),\n",
              "  'split2_test_score': array([0.99929342, 0.99928213, 0.99924439, 0.99927793, 0.99927538]),\n",
              "  'split2_train_score': array([0.9998841 , 0.9998912 , 0.99987598, 0.99989158, 0.99988565]),\n",
              "  'split3_test_score': array([0.99924731, 0.99925867, 0.99924237, 0.99927551, 0.99926149]),\n",
              "  'split3_train_score': array([0.99989691, 0.99988233, 0.99989233, 0.99989906, 0.99987947]),\n",
              "  'split4_test_score': array([0.9991535 , 0.99913086, 0.9991375 , 0.99914722, 0.99916043]),\n",
              "  'split4_train_score': array([0.99988989, 0.99988794, 0.99989421, 0.99989444, 0.99988421]),\n",
              "  'std_fit_time': array([ 2.7405917 ,  0.34427432,  0.94262271,  0.31820129, 77.83534634]),\n",
              "  'std_score_time': array([0.0550795 , 0.06882105, 0.12748158, 0.03599069, 0.19685479]),\n",
              "  'std_test_score': array([7.12778720e-05, 8.51829624e-05, 8.41084946e-05, 8.41588116e-05,\n",
              "         7.75013343e-05]),\n",
              "  'std_train_score': array([4.20252445e-06, 3.42291037e-06, 6.37455584e-06, 3.30119941e-06,\n",
              "         4.39279548e-06])},\n",
              " {'gamma': 0.3},\n",
              " 0.9992873065950836)"
            ]
          },
          "metadata": {
            "tags": []
          },
          "execution_count": 49
        }
      ]
    },
    {
      "cell_type": "code",
      "metadata": {
        "colab_type": "code",
        "id": "1gVYju-XcPyJ",
        "outputId": "11a08405-daf1-49ab-87a7-9cbb9ea20b84",
        "colab": {
          "base_uri": "https://localhost:8080/",
          "height": 798
        }
      },
      "source": [
        "xgb2 = XGBClassifier(\n",
        " learning_rate =0.1,\n",
        " n_estimators=1000,\n",
        " max_depth=9,\n",
        " min_child_weight=8,\n",
        " gamma=0.3,\n",
        " subsample=0.8,\n",
        " colsample_bytree=0.8,\n",
        " objective= 'binary:logistic',\n",
        " nthread=4,\n",
        " scale_pos_weight=1,\n",
        " seed=27)\n",
        "\n",
        "modelfit(xgb2, df_final_train, y_train)"
      ],
      "execution_count": 0,
      "outputs": [
        {
          "output_type": "stream",
          "text": [
            "\n",
            "Model Report\n",
            "Accuracy : 0.9997\n",
            "AUC Score (Train): 1.000000\n"
          ],
          "name": "stdout"
        },
        {
          "output_type": "display_data",
          "data": {
            "image/png": "[encoded data removed]",
            "text/plain": [
              "<Figure size 720x864 with 1 Axes>"
            ]
          },
          "metadata": {
            "tags": []
          }
        }
      ]
    },
    {
      "cell_type": "markdown",
      "metadata": {
        "colab_type": "text",
        "id": "E0lp8MOHkJiW"
      },
      "source": [
        "#  Tune subsample and colsample_bytree"
      ]
    },
    {
      "cell_type": "code",
      "metadata": {
        "colab_type": "code",
        "id": "XgzTR4q5cP4J",
        "outputId": "f05707bf-30a0-44b8-c4c1-fb7b774eb905",
        "colab": {
          "base_uri": "https://localhost:8080/",
          "height": 51
        }
      },
      "source": [
        "%%time\n",
        "param_test4 = {\n",
        " 'subsample':[i/10.0 for i in range(6,10)],\n",
        " 'colsample_bytree':[i/10.0 for i in range(6,10)]\n",
        "}\n",
        "\n",
        "gsearch4 = GridSearchCV(estimator = XGBClassifier( learning_rate =0.1, n_estimators=177, max_depth=9,\n",
        " min_child_weight=8, gamma=0.3, subsample=0.8, colsample_bytree=0.8,\n",
        " objective= 'binary:logistic', nthread=4, scale_pos_weight=1,seed=27), \n",
        " param_grid = param_test4, scoring='roc_auc',n_jobs=-1,iid=False, cv=5)\n",
        "\n",
        "gsearch4.fit(df_final_train, y_train)\n",
        "\n"
      ],
      "execution_count": 56,
      "outputs": [
        {
          "output_type": "stream",
          "text": [
            "CPU times: user 2min 37s, sys: 1.28 s, total: 2min 38s\n",
            "Wall time: 1h 17min 41s\n"
          ],
          "name": "stdout"
        }
      ]
    },
    {
      "cell_type": "code",
      "metadata": {
        "colab_type": "code",
        "id": "KL_QetujhuJK",
        "outputId": "ad2180e8-ba75-4638-f16c-058b4b81c22a",
        "colab": {
          "base_uri": "https://localhost:8080/",
          "height": 1785
        }
      },
      "source": [
        "gsearch4.cv_results_, gsearch4.best_params_, gsearch4.best_score_"
      ],
      "execution_count": 0,
      "outputs": [
        {
          "output_type": "execute_result",
          "data": {
            "text/plain": [
              "({'mean_fit_time': array([128.35479522, 110.54089823, 114.88536386, 118.16604095,\n",
              "         120.9758719 , 128.03011818, 133.07303467, 135.50618873,\n",
              "         134.79336476, 142.0484189 , 146.12940063, 150.3775949 ,\n",
              "         149.26545868, 157.23077812, 163.36556964, 164.79058442]),\n",
              "  'mean_score_time': array([0.33173246, 0.3169013 , 0.3274982 , 0.33410215, 0.32927413,\n",
              "         0.33495288, 0.30037684, 0.32574058, 0.35323286, 0.35304565,\n",
              "         0.32028236, 0.34849763, 0.31548738, 0.31135755, 0.31493134,\n",
              "         0.29831481]),\n",
              "  'mean_test_score': array([0.9992755 , 0.99928815, 0.99929458, 0.99930116, 0.99928037,\n",
              "         0.99929325, 0.99930742, 0.99929537, 0.99928479, 0.99929447,\n",
              "         0.99932737, 0.99930874, 0.99927658, 0.99931563, 0.99931174,\n",
              "         0.99932162]),\n",
              "  'mean_train_score': array([0.99993713, 0.99995258, 0.99996103, 0.99996581, 0.99993966,\n",
              "         0.99994899, 0.99995681, 0.99996127, 0.99993834, 0.99994943,\n",
              "         0.99995666, 0.99995561, 0.99994001, 0.99995025, 0.99995544,\n",
              "         0.99995432]),\n",
              "  'param_colsample_bytree': masked_array(data=[0.6, 0.6, 0.6, 0.6, 0.7, 0.7, 0.7, 0.7, 0.8, 0.8, 0.8,\n",
              "                     0.8, 0.9, 0.9, 0.9, 0.9],\n",
              "               mask=[False, False, False, False, False, False, False, False,\n",
              "                     False, False, False, False, False, False, False, False],\n",
              "         fill_value='?',\n",
              "              dtype=object),\n",
              "  'param_subsample': masked_array(data=[0.6, 0.7, 0.8, 0.9, 0.6, 0.7, 0.8, 0.9, 0.6, 0.7, 0.8,\n",
              "                     0.9, 0.6, 0.7, 0.8, 0.9],\n",
              "               mask=[False, False, False, False, False, False, False, False,\n",
              "                     False, False, False, False, False, False, False, False],\n",
              "         fill_value='?',\n",
              "              dtype=object),\n",
              "  'params': [{'colsample_bytree': 0.6, 'subsample': 0.6},\n",
              "   {'colsample_bytree': 0.6, 'subsample': 0.7},\n",
              "   {'colsample_bytree': 0.6, 'subsample': 0.8},\n",
              "   {'colsample_bytree': 0.6, 'subsample': 0.9},\n",
              "   {'colsample_bytree': 0.7, 'subsample': 0.6},\n",
              "   {'colsample_bytree': 0.7, 'subsample': 0.7},\n",
              "   {'colsample_bytree': 0.7, 'subsample': 0.8},\n",
              "   {'colsample_bytree': 0.7, 'subsample': 0.9},\n",
              "   {'colsample_bytree': 0.8, 'subsample': 0.6},\n",
              "   {'colsample_bytree': 0.8, 'subsample': 0.7},\n",
              "   {'colsample_bytree': 0.8, 'subsample': 0.8},\n",
              "   {'colsample_bytree': 0.8, 'subsample': 0.9},\n",
              "   {'colsample_bytree': 0.9, 'subsample': 0.6},\n",
              "   {'colsample_bytree': 0.9, 'subsample': 0.7},\n",
              "   {'colsample_bytree': 0.9, 'subsample': 0.8},\n",
              "   {'colsample_bytree': 0.9, 'subsample': 0.9}],\n",
              "  'rank_test_score': array([16, 12,  9,  7, 14, 11,  6,  8, 13, 10,  1,  5, 15,  3,  4,  2],\n",
              "        dtype=int32),\n",
              "  'split0_test_score': array([0.99930597, 0.99931428, 0.9993319 , 0.99932074, 0.9993097 ,\n",
              "         0.99932859, 0.99933173, 0.9993124 , 0.99931126, 0.99931602,\n",
              "         0.99936692, 0.9993357 , 0.99932359, 0.99932263, 0.99935486,\n",
              "         0.99933361]),\n",
              "  'split0_train_score': array([0.99993696, 0.99995123, 0.99995773, 0.99995854, 0.99993984,\n",
              "         0.99995478, 0.99995871, 0.99995872, 0.99994225, 0.99994744,\n",
              "         0.99995571, 0.99995828, 0.99994445, 0.9999561 , 0.99995265,\n",
              "         0.99995861]),\n",
              "  'split1_test_score': array([0.99939072, 0.99938249, 0.99936991, 0.99940859, 0.99937659,\n",
              "         0.99940308, 0.99943042, 0.9993972 , 0.99938058, 0.99940061,\n",
              "         0.99944312, 0.999419  , 0.99937984, 0.99943077, 0.9994085 ,\n",
              "         0.99943639]),\n",
              "  'split1_train_score': array([0.99993624, 0.99995265, 0.99996268, 0.99996595, 0.99994127,\n",
              "         0.99994619, 0.99995615, 0.99996351, 0.99993476, 0.9999441 ,\n",
              "         0.99995205, 0.99995139, 0.9999447 , 0.99994813, 0.99995267,\n",
              "         0.99995442]),\n",
              "  'split2_test_score': array([0.99923507, 0.99930937, 0.99928278, 0.99929106, 0.99926965,\n",
              "         0.99933153, 0.99931951, 0.9992865 , 0.99928818, 0.99931318,\n",
              "         0.99933198, 0.9993247 , 0.99926638, 0.99931466, 0.99933287,\n",
              "         0.99931197]),\n",
              "  'split2_train_score': array([0.99993524, 0.99995512, 0.99995976, 0.99996604, 0.99993503,\n",
              "         0.99994981, 0.99995364, 0.99995416, 0.99993649, 0.99994878,\n",
              "         0.99995788, 0.9999561 , 0.99993259, 0.99994649, 0.999958  ,\n",
              "         0.99995187]),\n",
              "  'split3_test_score': array([0.99927723, 0.99928389, 0.9993041 , 0.99926778, 0.99928328,\n",
              "         0.99924899, 0.99928405, 0.9992903 , 0.99929192, 0.99929039,\n",
              "         0.99930291, 0.99928883, 0.99926656, 0.99930948, 0.99929732,\n",
              "         0.99932274]),\n",
              "  'split3_train_score': array([0.99994235, 0.9999494 , 0.99996328, 0.99996881, 0.99994245,\n",
              "         0.99994513, 0.99995823, 0.99996694, 0.99994613, 0.99995522,\n",
              "         0.99996132, 0.99995791, 0.99993779, 0.99995212, 0.9999613 ,\n",
              "         0.99995229]),\n",
              "  'split4_test_score': array([0.99916852, 0.9991507 , 0.99918423, 0.99921764, 0.99916262,\n",
              "         0.99915406, 0.9991714 , 0.99919047, 0.99915203, 0.99915215,\n",
              "         0.99919193, 0.99917549, 0.99914651, 0.99920064, 0.99916514,\n",
              "         0.99920339]),\n",
              "  'split4_train_score': array([0.99993485, 0.99995451, 0.99996172, 0.99996969, 0.9999397 ,\n",
              "         0.99994904, 0.99995733, 0.999963  , 0.99993207, 0.99995162,\n",
              "         0.99995633, 0.99995439, 0.99994053, 0.99994843, 0.99995257,\n",
              "         0.99995442]),\n",
              "  'std_fit_time': array([27.223144  ,  0.88905009,  1.59162266,  2.44183962,  0.30839074,\n",
              "          2.81577542,  1.73442709,  1.12534157,  1.43072562,  1.83846151,\n",
              "          0.72838203,  2.18913538,  1.3740453 ,  1.8783748 ,  2.28629232,\n",
              "          7.02324846]),\n",
              "  'std_score_time': array([0.03453879, 0.04897989, 0.00811299, 0.01876592, 0.01903517,\n",
              "         0.03413744, 0.00352925, 0.02471569, 0.03587606, 0.0166471 ,\n",
              "         0.02456705, 0.03250665, 0.01475807, 0.01298722, 0.01618885,\n",
              "         0.07253432]),\n",
              "  'std_test_score': array([7.38737000e-05, 7.60846123e-05, 6.24093788e-05, 6.34290091e-05,\n",
              "         6.94369414e-05, 8.49817945e-05, 8.35618646e-05, 6.59815648e-05,\n",
              "         7.42486560e-05, 8.04385398e-05, 8.23727005e-05, 7.91078617e-05,\n",
              "         7.74537107e-05, 7.28930861e-05, 8.16922442e-05, 7.40105078e-05]),\n",
              "  'std_train_score': array([2.71438239e-06, 2.10172113e-06, 2.03496043e-06, 3.92507314e-06,\n",
              "         2.52352666e-06, 3.37703359e-06, 1.81001165e-06, 4.41142319e-06,\n",
              "         5.12889219e-06, 3.76992846e-06, 3.01645800e-06, 2.52877403e-06,\n",
              "         4.51380145e-06, 3.45512120e-06, 3.59440144e-06, 2.39043901e-06])},\n",
              " {'colsample_bytree': 0.8, 'subsample': 0.8},\n",
              " 0.9993273721503128)"
            ]
          },
          "metadata": {
            "tags": []
          },
          "execution_count": 11
        }
      ]
    },
    {
      "cell_type": "code",
      "metadata": {
        "colab_type": "code",
        "id": "T4unMUjCcP64",
        "outputId": "ed34d5ce-348f-4c62-d4cc-799c06c9f8cd",
        "colab": {
          "base_uri": "https://localhost:8080/",
          "height": 204
        }
      },
      "source": [
        "param_test5 = {\n",
        " 'subsample':[i/100.0 for i in range(75,85,3)],\n",
        " 'colsample_bytree':[i/100.0 for i in range(75,85,3)]\n",
        "}\n",
        "\n",
        "gsearch5 = GridSearchCV(estimator = XGBClassifier( learning_rate =0.1, n_estimators=177, max_depth=9,\n",
        " min_child_weight=9, gamma=0.3, subsample=0.8, colsample_bytree=0.8,\n",
        " objective= 'binary:logistic', nthread=4, scale_pos_weight=1,seed=27), \n",
        " param_grid = param_test5, scoring='roc_auc',n_jobs=4,iid=False, cv=5)\n",
        "\n",
        "gsearch5.fit(df_final_train, y_train)"
      ],
      "execution_count": 0,
      "outputs": [
        {
          "output_type": "execute_result",
          "data": {
            "text/plain": [
              "GridSearchCV(cv=5, error_score='raise-deprecating',\n",
              "       estimator=XGBClassifier(base_score=0.5, booster='gbtree', colsample_bylevel=1,\n",
              "       colsample_bytree=0.8, gamma=0.3, learning_rate=0.1,\n",
              "       max_delta_step=0, max_depth=9, min_child_weight=9, missing=None,\n",
              "       n_estimators=177, n_jobs=1, nthread=4, objective='binary:logistic',\n",
              "       random_state=0, reg_alpha=0, reg_lambda=1, scale_pos_weight=1,\n",
              "       seed=27, silent=True, subsample=0.8),\n",
              "       fit_params=None, iid=False, n_jobs=4,\n",
              "       param_grid={'subsample': [0.75, 0.78, 0.81, 0.84], 'colsample_bytree': [0.75, 0.78, 0.81, 0.84]},\n",
              "       pre_dispatch='2*n_jobs', refit=True, return_train_score='warn',\n",
              "       scoring='roc_auc', verbose=0)"
            ]
          },
          "metadata": {
            "tags": []
          },
          "execution_count": 12
        }
      ]
    },
    {
      "cell_type": "code",
      "metadata": {
        "colab_type": "code",
        "id": "_tm5b3BFxJIP",
        "outputId": "bf416a3c-5108-49da-8cfd-54f2fff58a94",
        "colab": {
          "base_uri": "https://localhost:8080/",
          "height": 1785
        }
      },
      "source": [
        "gsearch5.cv_results_, gsearch5.best_params_, gsearch5.best_score_"
      ],
      "execution_count": 0,
      "outputs": [
        {
          "output_type": "execute_result",
          "data": {
            "text/plain": [
              "({'mean_fit_time': array([302.92039347, 293.8115057 , 298.97528057, 291.18409028,\n",
              "         303.66260371, 304.86778102, 309.14104762, 300.5765748 ,\n",
              "         308.78340092, 307.74335113, 313.13925533, 314.09605527,\n",
              "         314.2329844 , 319.58474565, 322.71728125, 299.28868232]),\n",
              "  'mean_score_time': array([0.77026658, 0.76972566, 0.76679802, 0.7011096 , 0.7240437 ,\n",
              "         0.75406442, 0.77312388, 0.65594654, 0.73847847, 0.82006764,\n",
              "         0.77934847, 0.75223355, 0.82994165, 0.77469034, 0.75916128,\n",
              "         0.50898991]),\n",
              "  'mean_test_score': array([0.99930179, 0.99930374, 0.99930201, 0.99930544, 0.99928977,\n",
              "         0.99930637, 0.99929668, 0.9992925 , 0.99930068, 0.99929222,\n",
              "         0.9993169 , 0.9993124 , 0.99931246, 0.99930518, 0.99931516,\n",
              "         0.9993157 ]),\n",
              "  'mean_train_score': array([0.99993975, 0.9999444 , 0.99994314, 0.99994479, 0.99994392,\n",
              "         0.99994312, 0.99994643, 0.99994633, 0.99994049, 0.99994406,\n",
              "         0.99994492, 0.99994489, 0.99994467, 0.99994467, 0.99994539,\n",
              "         0.99994477]),\n",
              "  'param_colsample_bytree': masked_array(data=[0.75, 0.75, 0.75, 0.75, 0.78, 0.78, 0.78, 0.78, 0.81,\n",
              "                     0.81, 0.81, 0.81, 0.84, 0.84, 0.84, 0.84],\n",
              "               mask=[False, False, False, False, False, False, False, False,\n",
              "                     False, False, False, False, False, False, False, False],\n",
              "         fill_value='?',\n",
              "              dtype=object),\n",
              "  'param_subsample': masked_array(data=[0.75, 0.78, 0.81, 0.84, 0.75, 0.78, 0.81, 0.84, 0.75,\n",
              "                     0.78, 0.81, 0.84, 0.75, 0.78, 0.81, 0.84],\n",
              "               mask=[False, False, False, False, False, False, False, False,\n",
              "                     False, False, False, False, False, False, False, False],\n",
              "         fill_value='?',\n",
              "              dtype=object),\n",
              "  'params': [{'colsample_bytree': 0.75, 'subsample': 0.75},\n",
              "   {'colsample_bytree': 0.75, 'subsample': 0.78},\n",
              "   {'colsample_bytree': 0.75, 'subsample': 0.81},\n",
              "   {'colsample_bytree': 0.75, 'subsample': 0.84},\n",
              "   {'colsample_bytree': 0.78, 'subsample': 0.75},\n",
              "   {'colsample_bytree': 0.78, 'subsample': 0.78},\n",
              "   {'colsample_bytree': 0.78, 'subsample': 0.81},\n",
              "   {'colsample_bytree': 0.78, 'subsample': 0.84},\n",
              "   {'colsample_bytree': 0.81, 'subsample': 0.75},\n",
              "   {'colsample_bytree': 0.81, 'subsample': 0.78},\n",
              "   {'colsample_bytree': 0.81, 'subsample': 0.81},\n",
              "   {'colsample_bytree': 0.81, 'subsample': 0.84},\n",
              "   {'colsample_bytree': 0.84, 'subsample': 0.75},\n",
              "   {'colsample_bytree': 0.84, 'subsample': 0.78},\n",
              "   {'colsample_bytree': 0.84, 'subsample': 0.81},\n",
              "   {'colsample_bytree': 0.84, 'subsample': 0.84}],\n",
              "  'rank_test_score': array([11,  9, 10,  7, 16,  6, 13, 14, 12, 15,  1,  5,  4,  8,  3,  2],\n",
              "        dtype=int32),\n",
              "  'split0_test_score': array([0.99933875, 0.99934512, 0.99932662, 0.99932543, 0.99933481,\n",
              "         0.99932188, 0.99933007, 0.99932238, 0.99938398, 0.99933219,\n",
              "         0.99932883, 0.99934298, 0.9993558 , 0.99934915, 0.99934908,\n",
              "         0.99935494]),\n",
              "  'split0_train_score': array([0.99993788, 0.9999448 , 0.99994917, 0.9999455 , 0.99994912,\n",
              "         0.99994614, 0.99994392, 0.99994894, 0.99994063, 0.99994687,\n",
              "         0.99994643, 0.99994576, 0.99994703, 0.99994255, 0.99994423,\n",
              "         0.99995398]),\n",
              "  'split1_test_score': array([0.99943333, 0.99943484, 0.99941737, 0.99941386, 0.99940432,\n",
              "         0.99942328, 0.99938425, 0.99939815, 0.99943075, 0.99940844,\n",
              "         0.99941465, 0.99941677, 0.99942837, 0.99939118, 0.99941414,\n",
              "         0.99941144]),\n",
              "  'split1_train_score': array([0.99994178, 0.99994812, 0.99994005, 0.99994825, 0.99994144,\n",
              "         0.99994784, 0.99994732, 0.99994204, 0.99994504, 0.99994379,\n",
              "         0.99994417, 0.9999409 , 0.99993803, 0.99994895, 0.99994554,\n",
              "         0.99994102]),\n",
              "  'split2_test_score': array([0.99930217, 0.99931134, 0.9992754 , 0.99930385, 0.99930783,\n",
              "         0.99931101, 0.99931069, 0.99927414, 0.9992973 , 0.99928967,\n",
              "         0.99933703, 0.99930666, 0.99931878, 0.99930558, 0.99931122,\n",
              "         0.99931928]),\n",
              "  'split2_train_score': array([0.99993647, 0.99994421, 0.99994047, 0.99994033, 0.99993965,\n",
              "         0.99994374, 0.99994294, 0.99994036, 0.99993651, 0.99994205,\n",
              "         0.99994185, 0.99994288, 0.99994447, 0.99994412, 0.99994422,\n",
              "         0.99993959]),\n",
              "  'split3_test_score': array([0.9992765 , 0.99928711, 0.99931014, 0.99931368, 0.99925032,\n",
              "         0.99929845, 0.99927565, 0.99930205, 0.99925677, 0.99926432,\n",
              "         0.99930259, 0.99931249, 0.99929197, 0.99928903, 0.99930647,\n",
              "         0.99928919]),\n",
              "  'split3_train_score': array([0.99994677, 0.99994422, 0.99994437, 0.99994795, 0.99994525,\n",
              "         0.99994386, 0.99994898, 0.99995044, 0.99994081, 0.9999417 ,\n",
              "         0.99994783, 0.99994744, 0.9999488 , 0.99994617, 0.99994794,\n",
              "         0.99994612]),\n",
              "  'split4_test_score': array([0.99915823, 0.99914028, 0.99918052, 0.99917039, 0.99915156,\n",
              "         0.99917723, 0.99918276, 0.99916577, 0.9991346 , 0.99916647,\n",
              "         0.99920142, 0.9991831 , 0.99916739, 0.99919097, 0.9991949 ,\n",
              "         0.99920363]),\n",
              "  'split4_train_score': array([0.99993581, 0.99994067, 0.99994165, 0.99994192, 0.99994413,\n",
              "         0.99993402, 0.99994897, 0.99994988, 0.99993949, 0.99994591,\n",
              "         0.99994433, 0.99994748, 0.999945  , 0.99994156, 0.99994501,\n",
              "         0.99994314]),\n",
              "  'std_fit_time': array([ 2.75317958,  8.69616505,  7.51302732, 12.31426403,  5.56051499,\n",
              "          5.65839303,  3.64557474,  8.55874545,  6.58675108,  5.88445212,\n",
              "          6.17437202,  7.79168679,  6.7033963 ,  4.0001094 ,  2.46417982,\n",
              "         20.07853838]),\n",
              "  'std_score_time': array([0.07204588, 0.09003647, 0.06714108, 0.10471372, 0.06090696,\n",
              "         0.07371951, 0.03213778, 0.08575745, 0.0720258 , 0.04634309,\n",
              "         0.07342947, 0.11857434, 0.06630085, 0.0561309 , 0.04464787,\n",
              "         0.22535034]),\n",
              "  'std_test_score': array([8.93498200e-05, 9.58672580e-05, 7.67426019e-05, 7.80552354e-05,\n",
              "         8.50124687e-05, 7.83190508e-05, 6.69325622e-05, 7.55559410e-05,\n",
              "         1.03323543e-04, 7.96269971e-05, 6.87644035e-05, 7.56013843e-05,\n",
              "         8.58118746e-05, 6.72828771e-05, 7.14160299e-05, 6.92551882e-05]),\n",
              "  'std_train_score': array([4.07965851e-06, 2.36784664e-06, 3.37025554e-06, 3.18216027e-06,\n",
              "         3.26421291e-06, 4.79672476e-06, 2.54096375e-06, 4.25322659e-06,\n",
              "         2.74492511e-06, 2.04700691e-06, 2.05497600e-06, 2.60559275e-06,\n",
              "         3.65869372e-06, 2.64644502e-06, 1.37241568e-06, 5.10193017e-06])},\n",
              " {'colsample_bytree': 0.81, 'subsample': 0.81},\n",
              " 0.9993169024725427)"
            ]
          },
          "metadata": {
            "tags": []
          },
          "execution_count": 13
        }
      ]
    },
    {
      "cell_type": "markdown",
      "metadata": {
        "colab_type": "text",
        "id": "pe4uGERrkPOS"
      },
      "source": [
        "# Tuning Regularization Parameters"
      ]
    },
    {
      "cell_type": "code",
      "metadata": {
        "colab_type": "code",
        "id": "IqUBe3cFcP9S",
        "outputId": "a787424a-85cd-428a-9db5-849a73f2e584",
        "colab": {
          "base_uri": "https://localhost:8080/",
          "height": 204
        }
      },
      "source": [
        "param_test6 = {\n",
        " 'reg_alpha':[1e-5, 1e-2, 0.1, 1, 10]\n",
        "}\n",
        "\n",
        "gsearch6 = GridSearchCV(estimator = XGBClassifier( learning_rate =0.1, n_estimators=177, max_depth=9,\n",
        " min_child_weight=8, gamma=0.3, subsample=0.81, colsample_bytree=0.81, \n",
        " objective= 'binary:logistic', nthread=4, scale_pos_weight=1,seed=27), \n",
        " param_grid = param_test6, scoring='roc_auc',n_jobs=-1,iid=False, cv=5)\n",
        "\n",
        "gsearch6.fit(df_final_train, y_train)\n"
      ],
      "execution_count": 0,
      "outputs": [
        {
          "output_type": "execute_result",
          "data": {
            "text/plain": [
              "GridSearchCV(cv=5, error_score='raise-deprecating',\n",
              "       estimator=XGBClassifier(base_score=0.5, booster='gbtree', colsample_bylevel=1,\n",
              "       colsample_bytree=0.81, gamma=0.3, learning_rate=0.1,\n",
              "       max_delta_step=0, max_depth=9, min_child_weight=8, missing=None,\n",
              "       n_estimators=177, n_jobs=1, nthread=4, objective='binary:logistic',\n",
              "       random_state=0, reg_alpha=0, reg_lambda=1, scale_pos_weight=1,\n",
              "       seed=27, silent=True, subsample=0.81),\n",
              "       fit_params=None, iid=False, n_jobs=-1,\n",
              "       param_grid={'reg_alpha': [1e-05, 0.01, 0.1, 1, 10]},\n",
              "       pre_dispatch='2*n_jobs', refit=True, return_train_score='warn',\n",
              "       scoring='roc_auc', verbose=0)"
            ]
          },
          "metadata": {
            "tags": []
          },
          "execution_count": 15
        }
      ]
    },
    {
      "cell_type": "code",
      "metadata": {
        "colab_type": "code",
        "id": "EQEU_CoIyu4L",
        "outputId": "353e0dfa-4ead-4c83-d4c5-b4dd12d7e171",
        "colab": {
          "base_uri": "https://localhost:8080/",
          "height": 578
        }
      },
      "source": [
        "gsearch6.cv_results_, gsearch6.best_params_, gsearch6.best_score_"
      ],
      "execution_count": 0,
      "outputs": [
        {
          "output_type": "execute_result",
          "data": {
            "text/plain": [
              "({'mean_fit_time': array([154.8880085 , 154.36676297, 154.20631671, 154.46937642,\n",
              "         137.4012804 ]),\n",
              "  'mean_score_time': array([0.3276134 , 0.32364383, 0.32347493, 0.34764633, 0.28823824]),\n",
              "  'mean_test_score': array([0.99930899, 0.99930051, 0.99931045, 0.99931806, 0.99920924]),\n",
              "  'mean_train_score': array([0.99995352, 0.99995492, 0.99995401, 0.99995847, 0.99977171]),\n",
              "  'param_reg_alpha': masked_array(data=[1e-05, 0.01, 0.1, 1, 10],\n",
              "               mask=[False, False, False, False, False],\n",
              "         fill_value='?',\n",
              "              dtype=object),\n",
              "  'params': [{'reg_alpha': 1e-05},\n",
              "   {'reg_alpha': 0.01},\n",
              "   {'reg_alpha': 0.1},\n",
              "   {'reg_alpha': 1},\n",
              "   {'reg_alpha': 10}],\n",
              "  'rank_test_score': array([3, 4, 2, 1, 5], dtype=int32),\n",
              "  'split0_test_score': array([0.99934684, 0.99933189, 0.99932681, 0.99936777, 0.99925469]),\n",
              "  'split0_train_score': array([0.99995661, 0.99995201, 0.99995233, 0.99996283, 0.99976855]),\n",
              "  'split1_test_score': array([0.99942358, 0.99939777, 0.99942164, 0.99940697, 0.99933694]),\n",
              "  'split1_train_score': array([0.99994896, 0.99995636, 0.99995374, 0.99995431, 0.99977049]),\n",
              "  'split2_test_score': array([0.99931654, 0.9993108 , 0.9992995 , 0.99931507, 0.99922867]),\n",
              "  'split2_train_score': array([0.99994999, 0.99995261, 0.99995469, 0.99995958, 0.99976934]),\n",
              "  'split3_test_score': array([0.99926836, 0.99929309, 0.99930804, 0.99930855, 0.99915324]),\n",
              "  'split3_train_score': array([0.99996013, 0.99996002, 0.99995525, 0.99996113, 0.99977365]),\n",
              "  'split4_test_score': array([0.99918965, 0.99916901, 0.99919629, 0.99919194, 0.99907266]),\n",
              "  'split4_train_score': array([0.99995193, 0.99995362, 0.99995405, 0.99995452, 0.99977652]),\n",
              "  'std_fit_time': array([ 1.01197334,  2.17674446,  1.31266189,  1.292228  , 33.12441583]),\n",
              "  'std_score_time': array([0.02551757, 0.04985321, 0.01734348, 0.03060091, 0.06409689]),\n",
              "  'std_test_score': array([7.81194813e-05, 7.46958064e-05, 7.18172396e-05, 7.26387953e-05,\n",
              "         9.00446413e-05]),\n",
              "  'std_train_score': array([4.21738006e-06, 2.94994459e-06, 9.89780807e-07, 3.47146708e-06,\n",
              "         2.96548772e-06])},\n",
              " {'reg_alpha': 1},\n",
              " 0.9993180598477366)"
            ]
          },
          "metadata": {
            "tags": []
          },
          "execution_count": 16
        }
      ]
    },
    {
      "cell_type": "code",
      "metadata": {
        "colab_type": "code",
        "id": "3o0A5B8UjO_g",
        "outputId": "1a65a91c-bb44-4c18-97cd-8d5e99d68058",
        "colab": {
          "base_uri": "https://localhost:8080/",
          "height": 204
        }
      },
      "source": [
        "param_test7 = {\n",
        " 'reg_alpha':[0, 0.001, 0.005, 0.01, 0.05]\n",
        "}\n",
        "\n",
        "gsearch7 = GridSearchCV(estimator = XGBClassifier( learning_rate =0.1, n_estimators=177, max_depth=9,\n",
        " min_child_weight=8, gamma=0.3, subsample=0.81, colsample_bytree=0.81,\n",
        " objective= 'binary:logistic', nthread=4, scale_pos_weight=1,seed=27), \n",
        " param_grid = param_test7, scoring='roc_auc',n_jobs=-1,iid=False, cv=5)\n",
        "\n",
        "gsearch7.fit(df_final_train, y_train)\n",
        "\n"
      ],
      "execution_count": 0,
      "outputs": [
        {
          "output_type": "execute_result",
          "data": {
            "text/plain": [
              "GridSearchCV(cv=5, error_score='raise-deprecating',\n",
              "       estimator=XGBClassifier(base_score=0.5, booster='gbtree', colsample_bylevel=1,\n",
              "       colsample_bytree=0.81, gamma=0.3, learning_rate=0.1,\n",
              "       max_delta_step=0, max_depth=9, min_child_weight=8, missing=None,\n",
              "       n_estimators=177, n_jobs=1, nthread=4, objective='binary:logistic',\n",
              "       random_state=0, reg_alpha=0, reg_lambda=1, scale_pos_weight=1,\n",
              "       seed=27, silent=True, subsample=0.81),\n",
              "       fit_params=None, iid=False, n_jobs=-1,\n",
              "       param_grid={'reg_alpha': [0, 0.001, 0.005, 0.01, 0.05]},\n",
              "       pre_dispatch='2*n_jobs', refit=True, return_train_score='warn',\n",
              "       scoring='roc_auc', verbose=0)"
            ]
          },
          "metadata": {
            "tags": []
          },
          "execution_count": 17
        }
      ]
    },
    {
      "cell_type": "code",
      "metadata": {
        "colab_type": "code",
        "id": "Id-VKDi4y7F-",
        "outputId": "da3c8ccb-5edb-423b-ba8b-21a67cb0f32d",
        "colab": {
          "base_uri": "https://localhost:8080/",
          "height": 578
        }
      },
      "source": [
        "gsearch7.cv_results_, gsearch7.best_params_, gsearch7.best_score_"
      ],
      "execution_count": 0,
      "outputs": [
        {
          "output_type": "execute_result",
          "data": {
            "text/plain": [
              "({'mean_fit_time': array([154.77048984, 152.64919739, 153.20305319, 152.12401829,\n",
              "         138.50641689]),\n",
              "  'mean_score_time': array([0.30539746, 0.31285195, 0.32558684, 0.35305657, 0.29121881]),\n",
              "  'mean_test_score': array([0.99930875, 0.99930463, 0.99930707, 0.99930051, 0.99932117]),\n",
              "  'mean_train_score': array([0.99995334, 0.99995396, 0.99995513, 0.99995492, 0.9999541 ]),\n",
              "  'param_reg_alpha': masked_array(data=[0, 0.001, 0.005, 0.01, 0.05],\n",
              "               mask=[False, False, False, False, False],\n",
              "         fill_value='?',\n",
              "              dtype=object),\n",
              "  'params': [{'reg_alpha': 0},\n",
              "   {'reg_alpha': 0.001},\n",
              "   {'reg_alpha': 0.005},\n",
              "   {'reg_alpha': 0.01},\n",
              "   {'reg_alpha': 0.05}],\n",
              "  'rank_test_score': array([2, 4, 3, 5, 1], dtype=int32),\n",
              "  'split0_test_score': array([0.99934684, 0.99934903, 0.99933144, 0.99933189, 0.99935979]),\n",
              "  'split0_train_score': array([0.99995661, 0.99995426, 0.99995386, 0.99995201, 0.99995109]),\n",
              "  'split1_test_score': array([0.99942234, 0.99940431, 0.99942849, 0.99939777, 0.99938849]),\n",
              "  'split1_train_score': array([0.99994801, 0.99994981, 0.99995782, 0.99995636, 0.99995274]),\n",
              "  'split2_test_score': array([0.99931655, 0.99929059, 0.99930528, 0.9993108 , 0.99932058]),\n",
              "  'split2_train_score': array([0.99994999, 0.99995147, 0.99995835, 0.99995261, 0.9999551 ]),\n",
              "  'split3_test_score': array([0.99926836, 0.99928908, 0.99929622, 0.99929309, 0.99932234]),\n",
              "  'split3_train_score': array([0.99996013, 0.99996229, 0.99995925, 0.99996002, 0.99995799]),\n",
              "  'split4_test_score': array([0.99918965, 0.99919014, 0.99917393, 0.99916901, 0.99921465]),\n",
              "  'split4_train_score': array([0.99995193, 0.99995199, 0.99994638, 0.99995362, 0.9999536 ]),\n",
              "  'std_fit_time': array([ 1.12154176,  0.62322608,  1.06146469,  1.76754511, 30.25439763]),\n",
              "  'std_score_time': array([0.02781097, 0.02861758, 0.02051049, 0.02456015, 0.06013911]),\n",
              "  'std_test_score': array([7.77566902e-05, 7.13509381e-05, 8.14654995e-05, 7.46958064e-05,\n",
              "         5.89444275e-05]),\n",
              "  'std_train_score': array([4.43361234e-06, 4.39853039e-06, 4.74789632e-06, 2.94994459e-06,\n",
              "         2.33583857e-06])},\n",
              " {'reg_alpha': 0.05},\n",
              " 0.9993211703805238)"
            ]
          },
          "metadata": {
            "tags": []
          },
          "execution_count": 18
        }
      ]
    },
    {
      "cell_type": "code",
      "metadata": {
        "colab_type": "code",
        "id": "iiEzOr9ljPCa",
        "outputId": "0d18b950-1ef7-4b0c-b252-c814ba498b75",
        "colab": {
          "base_uri": "https://localhost:8080/",
          "height": 832
        }
      },
      "source": [
        "%%time\n",
        "xgb3 = XGBClassifier(\n",
        " learning_rate =0.1,\n",
        " n_estimators=1000,\n",
        " max_depth=9,\n",
        " min_child_weight=8,\n",
        " gamma=0.3,\n",
        " subsample=0.81,\n",
        " colsample_bytree=0.81,\n",
        " reg_alpha=0.005,\n",
        " objective= 'binary:logistic',\n",
        " nthread=4,\n",
        " scale_pos_weight=1,\n",
        " seed=27, n_jobs=-1)\n",
        "modelfit(xgb3, df_final_train, y_train)"
      ],
      "execution_count": 48,
      "outputs": [
        {
          "output_type": "stream",
          "text": [
            "\n",
            "Model Report\n",
            "Accuracy : 0.9989\n",
            "AUC Score (Train): 0.999994\n"
          ],
          "name": "stdout"
        },
        {
          "output_type": "display_data",
          "data": {
            "image/png": "[encoded data removed]",
            "text/plain": [
              "<Figure size 720x864 with 1 Axes>"
            ]
          },
          "metadata": {
            "tags": []
          }
        },
        {
          "output_type": "stream",
          "text": [
            "CPU times: user 20min 13s, sys: 4.42 s, total: 20min 18s\n",
            "Wall time: 10min 35s\n"
          ],
          "name": "stdout"
        }
      ]
    },
    {
      "cell_type": "code",
      "metadata": {
        "colab_type": "code",
        "id": "IgyIPdq5jPFv",
        "outputId": "76adc08a-0c2a-499c-ff82-5a835e71a9e4",
        "colab": {
          "base_uri": "https://localhost:8080/",
          "height": 51
        }
      },
      "source": [
        "%%time\n",
        "classifier = XGBClassifier(\n",
        " learning_rate =0.1,\n",
        " n_estimators=1000,\n",
        " max_depth=9,\n",
        " min_child_weight=8,\n",
        " gamma=0.3,\n",
        " subsample=0.81,\n",
        " colsample_bytree=0.81,\n",
        " reg_alpha=0.005,\n",
        " objective= 'binary:logistic',\n",
        " nthread=4,\n",
        " scale_pos_weight=1,\n",
        " seed=27, \n",
        " n_jobs=-1)\n",
        "\n",
        "classifier.fit(df_final_train, y_train)"
      ],
      "execution_count": 49,
      "outputs": [
        {
          "output_type": "stream",
          "text": [
            "CPU times: user 12min 8s, sys: 1.87 s, total: 12min 10s\n",
            "Wall time: 6min 18s\n"
          ],
          "name": "stdout"
        }
      ]
    },
    {
      "cell_type": "code",
      "metadata": {
        "colab_type": "code",
        "id": "Jz0Fv_awjWHN",
        "outputId": "8b63c015-62d2-4e96-bf08-535614efe7c6",
        "colab": {
          "base_uri": "https://localhost:8080/",
          "height": 51
        }
      },
      "source": [
        "y_train_pred = classifier.predict(df_final_train)\n",
        "y_test_pred = classifier.predict(df_final_test)\n",
        "\n",
        "from sklearn.metrics import f1_score\n",
        "print('Train f1 score',f1_score(y_train,y_train_pred))\n",
        "print('Test f1 score',f1_score(y_test,y_test_pred))"
      ],
      "execution_count": 50,
      "outputs": [
        {
          "output_type": "stream",
          "text": [
            "Train f1 score 1.0\n",
            "Test f1 score 0.9239413750373883\n"
          ],
          "name": "stdout"
        }
      ]
    },
    {
      "cell_type": "code",
      "metadata": {
        "colab_type": "code",
        "id": "arzxjAo1jWKi",
        "colab": {}
      },
      "source": [
        "import pickle\n",
        "pickle.dump(classifier, open(\"/content/drive/My Drive/Applied AI/Facebook Friend Recommendation using Graph Mining/xgb_fine_tuned_clf1_1.pickle.dat\", \"wb\"))\n"
      ],
      "execution_count": 0,
      "outputs": []
    },
    {
      "cell_type": "code",
      "metadata": {
        "colab_type": "code",
        "id": "D1TlFOobjWN1",
        "colab": {}
      },
      "source": [
        "from sklearn.metrics import confusion_matrix\n",
        "def plot_confusion_matrix(test_y, predict_y):\n",
        "    C = confusion_matrix(test_y, predict_y)\n",
        "    \n",
        "    A =(((C.T)/(C.sum(axis=1))).T)\n",
        "    \n",
        "    B =(C/C.sum(axis=0))\n",
        "    plt.figure(figsize=(20,4))\n",
        "    \n",
        "    labels = [0,1]\n",
        "    # representing A in heatmap format\n",
        "    cmap=sns.light_palette(\"blue\")\n",
        "    plt.subplot(1, 3, 1)\n",
        "    sns.heatmap(C, annot=True, cmap=cmap, fmt=\".3f\", xticklabels=labels, yticklabels=labels)\n",
        "    plt.xlabel('Predicted Class')\n",
        "    plt.ylabel('Original Class')\n",
        "    plt.title(\"Confusion matrix\")\n",
        "    \n",
        "    plt.subplot(1, 3, 2)\n",
        "    sns.heatmap(B, annot=True, cmap=cmap, fmt=\".3f\", xticklabels=labels, yticklabels=labels)\n",
        "    plt.xlabel('Predicted Class')\n",
        "    plt.ylabel('Original Class')\n",
        "    plt.title(\"Precision matrix\")\n",
        "    \n",
        "    plt.subplot(1, 3, 3)\n",
        "    # representing B in heatmap format\n",
        "    sns.heatmap(A, annot=True, cmap=cmap, fmt=\".3f\", xticklabels=labels, yticklabels=labels)\n",
        "    plt.xlabel('Predicted Class')\n",
        "    plt.ylabel('Original Class')\n",
        "    plt.title(\"Recall matrix\")\n",
        "    \n",
        "    plt.show()\n"
      ],
      "execution_count": 0,
      "outputs": []
    },
    {
      "cell_type": "code",
      "metadata": {
        "colab_type": "code",
        "id": "FzYO5lRrjWQq",
        "outputId": "01030ebd-771e-4a89-c1bd-3cfc40471a30",
        "colab": {
          "base_uri": "https://localhost:8080/",
          "height": 607
        }
      },
      "source": [
        "print('Train confusion_matrix')\n",
        "plot_confusion_matrix(y_train,y_train_pred)\n",
        "print('Test confusion_matrix')\n",
        "plot_confusion_matrix(y_test,y_test_pred)\n"
      ],
      "execution_count": 53,
      "outputs": [
        {
          "output_type": "stream",
          "text": [
            "Train confusion_matrix\n"
          ],
          "name": "stdout"
        },
        {
          "output_type": "display_data",
          "data": {
            "image/png": "[encoded data removed]",
            "text/plain": [
              "<Figure size 1440x288 with 6 Axes>"
            ]
          },
          "metadata": {
            "tags": []
          }
        },
        {
          "output_type": "stream",
          "text": [
            "Test confusion_matrix\n"
          ],
          "name": "stdout"
        },
        {
          "output_type": "display_data",
          "data": {
            "image/png": "[encoded data removed]",
            "text/plain": [
              "<Figure size 1440x288 with 6 Axes>"
            ]
          },
          "metadata": {
            "tags": []
          }
        }
      ]
    },
    {
      "cell_type": "code",
      "metadata": {
        "colab_type": "code",
        "id": "fd5kG7cUJIBX",
        "outputId": "181aa22e-55f4-4d18-8003-afa496d2f175",
        "colab": {
          "base_uri": "https://localhost:8080/",
          "height": 295
        }
      },
      "source": [
        "from sklearn.metrics import roc_curve, auc\n",
        "fpr,tpr,ths = roc_curve(y_test,y_test_pred)\n",
        "auc_sc = auc(fpr, tpr)\n",
        "plt.plot(fpr, tpr, color='navy',label='ROC curve (area = %0.2f)' % auc_sc)\n",
        "plt.xlabel('False Positive Rate')\n",
        "plt.ylabel('True Positive Rate')\n",
        "plt.title('Receiver operating characteristic with test data')\n",
        "plt.legend()\n",
        "plt.show()\n",
        "\n"
      ],
      "execution_count": 54,
      "outputs": [
        {
          "output_type": "display_data",
          "data": {
            "image/png": "[encoded data removed]",
            "text/plain": [
              "<Figure size 864x288 with 1 Axes>"
            ]
          },
          "metadata": {
            "tags": []
          }
        }
      ]
    },
    {
      "cell_type": "code",
      "metadata": {
        "colab_type": "code",
        "id": "ZnaYCxuIJIGn",
        "outputId": "ae69df3d-1cbf-4804-a031-ede7c6269921",
        "colab": {
          "base_uri": "https://localhost:8080/",
          "height": 730
        }
      },
      "source": [
        "features = df_final_train.columns\n",
        "importances = classifier.feature_importances_\n",
        "indices = (np.argsort(importances))[-25:]\n",
        "plt.figure(figsize=(10,12))\n",
        "plt.title('Feature Importances')\n",
        "plt.barh(range(len(indices)), importances[indices], color='r', align='center')\n",
        "plt.yticks(range(len(indices)), [features[i] for i in indices])\n",
        "plt.xlabel('Relative Importance')\n",
        "plt.show()\n"
      ],
      "execution_count": 55,
      "outputs": [
        {
          "output_type": "display_data",
          "data": {
            "image/png": "[encoded data removed]",
            "text/plain": [
              "<Figure size 720x864 with 1 Axes>"
            ]
          },
          "metadata": {
            "tags": []
          }
        }
      ]
    },
    {
      "cell_type": "code",
      "metadata": {
        "id": "gU1_WynAW96G",
        "colab_type": "code",
        "colab": {
          "base_uri": "https://localhost:8080/",
          "height": 136
        },
        "outputId": "00e3485a-b0ea-4a6b-e632-e906d3ab475f"
      },
      "source": [
        "from prettytable import PrettyTable\n",
        "    \n",
        "x = PrettyTable()\n",
        "\n",
        "x.field_names = [\"ALgorithm\", \"Train F1 Score\",\"Test F1 Score\"]\n",
        "\n",
        "x.add_row([\"Random Forest\", \"0.9652533106548414\",\"0.9241678239279553\"])\n",
        "x.add_row([\"XGBoost (without fine tuning)\", \"0.9805717737064626\",\"0.9346523793452582\"])\n",
        "x.add_row([\"XGBoost (with fine tuning)\", \"1.0\",\"0.9239413750373883\"])\n",
        "print(x)"
      ],
      "execution_count": 57,
      "outputs": [
        {
          "output_type": "stream",
          "text": [
            "+-------------------------------+--------------------+--------------------+\n",
            "|           ALgorithm           |   Train F1 Score   |   Test F1 Score    |\n",
            "+-------------------------------+--------------------+--------------------+\n",
            "|         Random Forest         | 0.9652533106548414 | 0.9241678239279553 |\n",
            "| XGBoost (without fine tuning) | 0.9805717737064626 | 0.9346523793452582 |\n",
            "|   XGBoost (with fine tuning)  |        1.0         | 0.9239413750373883 |\n",
            "+-------------------------------+--------------------+--------------------+\n"
          ],
          "name": "stdout"
        }
      ]
    },
    {
      "cell_type": "markdown",
      "metadata": {
        "id": "K8NFnSBkPBZQ",
        "colab_type": "text"
      },
      "source": [
        "# Conclusion\n",
        "1. The performance of XGBoost is better as compared with the Random Forest(in the provided file).\n",
        "2. The newly added featureas have the relative feature importance as given order Preferential_Attachment, destination_svd, source_svd in the without fine tuned XgBoost.\n",
        "3. But after fine tunning of XGBoost the destination_svd, source_svd features lost their relative feature importance and the test F1 score is depreceated."
      ]
    }
  ]
}